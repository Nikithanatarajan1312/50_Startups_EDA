{
  "nbformat": 4,
  "nbformat_minor": 0,
  "metadata": {
    "colab": {
      "name": "50_startups_EDA.ipynb",
      "provenance": [],
      "collapsed_sections": [],
      "authorship_tag": "ABX9TyNi1xBjb28f4mpa23Rn7EF5",
      "include_colab_link": true
    },
    "kernelspec": {
      "name": "python3",
      "display_name": "Python 3"
    },
    "language_info": {
      "name": "python"
    }
  },
  "cells": [
    {
      "cell_type": "markdown",
      "metadata": {
        "id": "view-in-github",
        "colab_type": "text"
      },
      "source": [
        "<a href=\"https://colab.research.google.com/github/Nikithanatarajan1312/50_Startups_EDA/blob/main/50_startups_EDA.ipynb\" target=\"_parent\"><img src=\"https://colab.research.google.com/assets/colab-badge.svg\" alt=\"Open In Colab\"/></a>"
      ]
    },
    {
      "cell_type": "markdown",
      "metadata": {
        "id": "P6dMhEqfREgG"
      },
      "source": [
        "**IMPORTING THE LIBRARIES**"
      ]
    },
    {
      "cell_type": "code",
      "metadata": {
        "id": "j8j6cH__NeIg"
      },
      "source": [
        "import pandas as pd\n",
        "import numpy as np\n",
        "import matplotlib.pyplot as plt\n",
        "import seaborn as sns\n",
        "\n",
        "%matplotlib inline"
      ],
      "execution_count": null,
      "outputs": []
    },
    {
      "cell_type": "markdown",
      "metadata": {
        "id": "YhnnQLSWRw6h"
      },
      "source": [
        "**IMPORTING THE DATASET- 50_Startups.csv**"
      ]
    },
    {
      "cell_type": "code",
      "metadata": {
        "colab": {
          "base_uri": "https://localhost:8080/",
          "height": 1000
        },
        "id": "6hWFFcytRSxZ",
        "outputId": "0df1c618-7ec2-4b07-d235-d467d0818e16"
      },
      "source": [
        "startups_dataset = pd.read_csv('50_Startups.csv')\n",
        "startups_dataset"
      ],
      "execution_count": null,
      "outputs": [
        {
          "output_type": "execute_result",
          "data": {
            "text/html": [
              "<div>\n",
              "<style scoped>\n",
              "    .dataframe tbody tr th:only-of-type {\n",
              "        vertical-align: middle;\n",
              "    }\n",
              "\n",
              "    .dataframe tbody tr th {\n",
              "        vertical-align: top;\n",
              "    }\n",
              "\n",
              "    .dataframe thead th {\n",
              "        text-align: right;\n",
              "    }\n",
              "</style>\n",
              "<table border=\"1\" class=\"dataframe\">\n",
              "  <thead>\n",
              "    <tr style=\"text-align: right;\">\n",
              "      <th></th>\n",
              "      <th>R&amp;D Spend</th>\n",
              "      <th>Administration</th>\n",
              "      <th>Marketing Spend</th>\n",
              "      <th>State</th>\n",
              "      <th>Profit</th>\n",
              "    </tr>\n",
              "  </thead>\n",
              "  <tbody>\n",
              "    <tr>\n",
              "      <th>0</th>\n",
              "      <td>165349.20</td>\n",
              "      <td>136897.80</td>\n",
              "      <td>471784.10</td>\n",
              "      <td>New York</td>\n",
              "      <td>192261.83</td>\n",
              "    </tr>\n",
              "    <tr>\n",
              "      <th>1</th>\n",
              "      <td>162597.70</td>\n",
              "      <td>151377.59</td>\n",
              "      <td>NaN</td>\n",
              "      <td>California</td>\n",
              "      <td>NaN</td>\n",
              "    </tr>\n",
              "    <tr>\n",
              "      <th>2</th>\n",
              "      <td>153441.51</td>\n",
              "      <td>101145.55</td>\n",
              "      <td>407934.54</td>\n",
              "      <td>Florida</td>\n",
              "      <td>191050.39</td>\n",
              "    </tr>\n",
              "    <tr>\n",
              "      <th>3</th>\n",
              "      <td>144372.41</td>\n",
              "      <td>118671.85</td>\n",
              "      <td>383199.62</td>\n",
              "      <td>New York</td>\n",
              "      <td>NaN</td>\n",
              "    </tr>\n",
              "    <tr>\n",
              "      <th>4</th>\n",
              "      <td>142107.34</td>\n",
              "      <td>91391.77</td>\n",
              "      <td>366168.42</td>\n",
              "      <td>Florida</td>\n",
              "      <td>166187.94</td>\n",
              "    </tr>\n",
              "    <tr>\n",
              "      <th>5</th>\n",
              "      <td>131876.90</td>\n",
              "      <td>NaN</td>\n",
              "      <td>362861.36</td>\n",
              "      <td>NaN</td>\n",
              "      <td>156991.12</td>\n",
              "    </tr>\n",
              "    <tr>\n",
              "      <th>6</th>\n",
              "      <td>NaN</td>\n",
              "      <td>147198.87</td>\n",
              "      <td>127716.82</td>\n",
              "      <td>California</td>\n",
              "      <td>156122.51</td>\n",
              "    </tr>\n",
              "    <tr>\n",
              "      <th>7</th>\n",
              "      <td>130298.13</td>\n",
              "      <td>145530.06</td>\n",
              "      <td>323876.68</td>\n",
              "      <td>Florida</td>\n",
              "      <td>NaN</td>\n",
              "    </tr>\n",
              "    <tr>\n",
              "      <th>8</th>\n",
              "      <td>120542.52</td>\n",
              "      <td>148718.95</td>\n",
              "      <td>311613.29</td>\n",
              "      <td>NaN</td>\n",
              "      <td>152211.77</td>\n",
              "    </tr>\n",
              "    <tr>\n",
              "      <th>9</th>\n",
              "      <td>123334.88</td>\n",
              "      <td>108679.17</td>\n",
              "      <td>304981.62</td>\n",
              "      <td>California</td>\n",
              "      <td>149759.96</td>\n",
              "    </tr>\n",
              "    <tr>\n",
              "      <th>10</th>\n",
              "      <td>101913.08</td>\n",
              "      <td>110594.11</td>\n",
              "      <td>229160.95</td>\n",
              "      <td>Florida</td>\n",
              "      <td>146121.95</td>\n",
              "    </tr>\n",
              "    <tr>\n",
              "      <th>11</th>\n",
              "      <td>100671.96</td>\n",
              "      <td>91790.61</td>\n",
              "      <td>249744.55</td>\n",
              "      <td>California</td>\n",
              "      <td>NaN</td>\n",
              "    </tr>\n",
              "    <tr>\n",
              "      <th>12</th>\n",
              "      <td>93863.75</td>\n",
              "      <td>127320.38</td>\n",
              "      <td>249839.44</td>\n",
              "      <td>Florida</td>\n",
              "      <td>141585.52</td>\n",
              "    </tr>\n",
              "    <tr>\n",
              "      <th>13</th>\n",
              "      <td>91992.39</td>\n",
              "      <td>135495.07</td>\n",
              "      <td>0.00</td>\n",
              "      <td>California</td>\n",
              "      <td>134307.35</td>\n",
              "    </tr>\n",
              "    <tr>\n",
              "      <th>14</th>\n",
              "      <td>119943.24</td>\n",
              "      <td>156547.42</td>\n",
              "      <td>256512.92</td>\n",
              "      <td>Florida</td>\n",
              "      <td>132602.65</td>\n",
              "    </tr>\n",
              "    <tr>\n",
              "      <th>15</th>\n",
              "      <td>NaN</td>\n",
              "      <td>122616.84</td>\n",
              "      <td>261776.23</td>\n",
              "      <td>New York</td>\n",
              "      <td>129917.04</td>\n",
              "    </tr>\n",
              "    <tr>\n",
              "      <th>16</th>\n",
              "      <td>78013.11</td>\n",
              "      <td>NaN</td>\n",
              "      <td>264346.06</td>\n",
              "      <td>California</td>\n",
              "      <td>NaN</td>\n",
              "    </tr>\n",
              "    <tr>\n",
              "      <th>17</th>\n",
              "      <td>94657.16</td>\n",
              "      <td>145077.58</td>\n",
              "      <td>282574.31</td>\n",
              "      <td>New York</td>\n",
              "      <td>125370.37</td>\n",
              "    </tr>\n",
              "    <tr>\n",
              "      <th>18</th>\n",
              "      <td>91749.16</td>\n",
              "      <td>114175.79</td>\n",
              "      <td>294919.57</td>\n",
              "      <td>Florida</td>\n",
              "      <td>124266.90</td>\n",
              "    </tr>\n",
              "    <tr>\n",
              "      <th>19</th>\n",
              "      <td>86419.70</td>\n",
              "      <td>153514.11</td>\n",
              "      <td>0.00</td>\n",
              "      <td>New York</td>\n",
              "      <td>NaN</td>\n",
              "    </tr>\n",
              "    <tr>\n",
              "      <th>20</th>\n",
              "      <td>76253.86</td>\n",
              "      <td>113867.30</td>\n",
              "      <td>298664.47</td>\n",
              "      <td>California</td>\n",
              "      <td>118474.03</td>\n",
              "    </tr>\n",
              "    <tr>\n",
              "      <th>21</th>\n",
              "      <td>78389.47</td>\n",
              "      <td>153773.43</td>\n",
              "      <td>299737.29</td>\n",
              "      <td>New York</td>\n",
              "      <td>111313.02</td>\n",
              "    </tr>\n",
              "    <tr>\n",
              "      <th>22</th>\n",
              "      <td>73994.56</td>\n",
              "      <td>122782.75</td>\n",
              "      <td>303319.26</td>\n",
              "      <td>Florida</td>\n",
              "      <td>NaN</td>\n",
              "    </tr>\n",
              "    <tr>\n",
              "      <th>23</th>\n",
              "      <td>67532.53</td>\n",
              "      <td>105751.03</td>\n",
              "      <td>304768.73</td>\n",
              "      <td>Florida</td>\n",
              "      <td>NaN</td>\n",
              "    </tr>\n",
              "    <tr>\n",
              "      <th>24</th>\n",
              "      <td>77044.01</td>\n",
              "      <td>99281.34</td>\n",
              "      <td>140574.81</td>\n",
              "      <td>New York</td>\n",
              "      <td>108552.04</td>\n",
              "    </tr>\n",
              "    <tr>\n",
              "      <th>25</th>\n",
              "      <td>NaN</td>\n",
              "      <td>139553.16</td>\n",
              "      <td>137962.62</td>\n",
              "      <td>California</td>\n",
              "      <td>107404.34</td>\n",
              "    </tr>\n",
              "    <tr>\n",
              "      <th>26</th>\n",
              "      <td>75328.87</td>\n",
              "      <td>144135.98</td>\n",
              "      <td>134050.07</td>\n",
              "      <td>Florida</td>\n",
              "      <td>105733.54</td>\n",
              "    </tr>\n",
              "    <tr>\n",
              "      <th>27</th>\n",
              "      <td>72107.60</td>\n",
              "      <td>127864.55</td>\n",
              "      <td>353183.81</td>\n",
              "      <td>New York</td>\n",
              "      <td>NaN</td>\n",
              "    </tr>\n",
              "    <tr>\n",
              "      <th>28</th>\n",
              "      <td>66051.52</td>\n",
              "      <td>182645.56</td>\n",
              "      <td>118148.20</td>\n",
              "      <td>Florida</td>\n",
              "      <td>103282.38</td>\n",
              "    </tr>\n",
              "    <tr>\n",
              "      <th>29</th>\n",
              "      <td>65605.48</td>\n",
              "      <td>NaN</td>\n",
              "      <td>107138.38</td>\n",
              "      <td>New York</td>\n",
              "      <td>NaN</td>\n",
              "    </tr>\n",
              "    <tr>\n",
              "      <th>30</th>\n",
              "      <td>61994.48</td>\n",
              "      <td>115641.28</td>\n",
              "      <td>91131.24</td>\n",
              "      <td>Florida</td>\n",
              "      <td>99937.59</td>\n",
              "    </tr>\n",
              "    <tr>\n",
              "      <th>31</th>\n",
              "      <td>61136.38</td>\n",
              "      <td>152701.92</td>\n",
              "      <td>88218.23</td>\n",
              "      <td>New York</td>\n",
              "      <td>NaN</td>\n",
              "    </tr>\n",
              "    <tr>\n",
              "      <th>32</th>\n",
              "      <td>63408.86</td>\n",
              "      <td>129219.61</td>\n",
              "      <td>46085.25</td>\n",
              "      <td>California</td>\n",
              "      <td>97427.84</td>\n",
              "    </tr>\n",
              "    <tr>\n",
              "      <th>33</th>\n",
              "      <td>55493.95</td>\n",
              "      <td>103057.49</td>\n",
              "      <td>NaN</td>\n",
              "      <td>Florida</td>\n",
              "      <td>96778.92</td>\n",
              "    </tr>\n",
              "    <tr>\n",
              "      <th>34</th>\n",
              "      <td>NaN</td>\n",
              "      <td>157693.92</td>\n",
              "      <td>210797.67</td>\n",
              "      <td>California</td>\n",
              "      <td>96712.80</td>\n",
              "    </tr>\n",
              "    <tr>\n",
              "      <th>35</th>\n",
              "      <td>46014.02</td>\n",
              "      <td>85047.44</td>\n",
              "      <td>205517.64</td>\n",
              "      <td>New York</td>\n",
              "      <td>NaN</td>\n",
              "    </tr>\n",
              "    <tr>\n",
              "      <th>36</th>\n",
              "      <td>28663.76</td>\n",
              "      <td>127056.21</td>\n",
              "      <td>201126.82</td>\n",
              "      <td>Florida</td>\n",
              "      <td>90708.19</td>\n",
              "    </tr>\n",
              "    <tr>\n",
              "      <th>37</th>\n",
              "      <td>44069.95</td>\n",
              "      <td>51283.14</td>\n",
              "      <td>197029.42</td>\n",
              "      <td>California</td>\n",
              "      <td>89949.14</td>\n",
              "    </tr>\n",
              "    <tr>\n",
              "      <th>38</th>\n",
              "      <td>20229.59</td>\n",
              "      <td>65947.93</td>\n",
              "      <td>185265.10</td>\n",
              "      <td>New York</td>\n",
              "      <td>81229.06</td>\n",
              "    </tr>\n",
              "    <tr>\n",
              "      <th>39</th>\n",
              "      <td>38558.51</td>\n",
              "      <td>NaN</td>\n",
              "      <td>174999.30</td>\n",
              "      <td>California</td>\n",
              "      <td>81005.76</td>\n",
              "    </tr>\n",
              "    <tr>\n",
              "      <th>40</th>\n",
              "      <td>28754.33</td>\n",
              "      <td>118546.05</td>\n",
              "      <td>172795.67</td>\n",
              "      <td>NaN</td>\n",
              "      <td>NaN</td>\n",
              "    </tr>\n",
              "    <tr>\n",
              "      <th>41</th>\n",
              "      <td>27892.92</td>\n",
              "      <td>84710.77</td>\n",
              "      <td>164470.71</td>\n",
              "      <td>Florida</td>\n",
              "      <td>77798.83</td>\n",
              "    </tr>\n",
              "    <tr>\n",
              "      <th>42</th>\n",
              "      <td>NaN</td>\n",
              "      <td>96189.63</td>\n",
              "      <td>148001.11</td>\n",
              "      <td>California</td>\n",
              "      <td>71498.49</td>\n",
              "    </tr>\n",
              "    <tr>\n",
              "      <th>43</th>\n",
              "      <td>15505.73</td>\n",
              "      <td>127382.30</td>\n",
              "      <td>35534.17</td>\n",
              "      <td>New York</td>\n",
              "      <td>69758.98</td>\n",
              "    </tr>\n",
              "    <tr>\n",
              "      <th>44</th>\n",
              "      <td>22177.74</td>\n",
              "      <td>154806.14</td>\n",
              "      <td>28334.72</td>\n",
              "      <td>California</td>\n",
              "      <td>NaN</td>\n",
              "    </tr>\n",
              "    <tr>\n",
              "      <th>45</th>\n",
              "      <td>1000.23</td>\n",
              "      <td>124153.04</td>\n",
              "      <td>1903.93</td>\n",
              "      <td>New York</td>\n",
              "      <td>NaN</td>\n",
              "    </tr>\n",
              "    <tr>\n",
              "      <th>46</th>\n",
              "      <td>1315.46</td>\n",
              "      <td>115816.21</td>\n",
              "      <td>297114.46</td>\n",
              "      <td>Florida</td>\n",
              "      <td>49490.75</td>\n",
              "    </tr>\n",
              "    <tr>\n",
              "      <th>47</th>\n",
              "      <td>0.00</td>\n",
              "      <td>135426.92</td>\n",
              "      <td>0.00</td>\n",
              "      <td>California</td>\n",
              "      <td>42559.73</td>\n",
              "    </tr>\n",
              "    <tr>\n",
              "      <th>48</th>\n",
              "      <td>542.05</td>\n",
              "      <td>51743.15</td>\n",
              "      <td>0.00</td>\n",
              "      <td>NaN</td>\n",
              "      <td>NaN</td>\n",
              "    </tr>\n",
              "    <tr>\n",
              "      <th>49</th>\n",
              "      <td>0.00</td>\n",
              "      <td>116983.80</td>\n",
              "      <td>45173.06</td>\n",
              "      <td>California</td>\n",
              "      <td>14681.40</td>\n",
              "    </tr>\n",
              "  </tbody>\n",
              "</table>\n",
              "</div>"
            ],
            "text/plain": [
              "    R&D Spend  Administration  Marketing Spend       State     Profit\n",
              "0   165349.20       136897.80        471784.10    New York  192261.83\n",
              "1   162597.70       151377.59              NaN  California        NaN\n",
              "2   153441.51       101145.55        407934.54     Florida  191050.39\n",
              "3   144372.41       118671.85        383199.62    New York        NaN\n",
              "4   142107.34        91391.77        366168.42     Florida  166187.94\n",
              "5   131876.90             NaN        362861.36         NaN  156991.12\n",
              "6         NaN       147198.87        127716.82  California  156122.51\n",
              "7   130298.13       145530.06        323876.68     Florida        NaN\n",
              "8   120542.52       148718.95        311613.29         NaN  152211.77\n",
              "9   123334.88       108679.17        304981.62  California  149759.96\n",
              "10  101913.08       110594.11        229160.95     Florida  146121.95\n",
              "11  100671.96        91790.61        249744.55  California        NaN\n",
              "12   93863.75       127320.38        249839.44     Florida  141585.52\n",
              "13   91992.39       135495.07             0.00  California  134307.35\n",
              "14  119943.24       156547.42        256512.92     Florida  132602.65\n",
              "15        NaN       122616.84        261776.23    New York  129917.04\n",
              "16   78013.11             NaN        264346.06  California        NaN\n",
              "17   94657.16       145077.58        282574.31    New York  125370.37\n",
              "18   91749.16       114175.79        294919.57     Florida  124266.90\n",
              "19   86419.70       153514.11             0.00    New York        NaN\n",
              "20   76253.86       113867.30        298664.47  California  118474.03\n",
              "21   78389.47       153773.43        299737.29    New York  111313.02\n",
              "22   73994.56       122782.75        303319.26     Florida        NaN\n",
              "23   67532.53       105751.03        304768.73     Florida        NaN\n",
              "24   77044.01        99281.34        140574.81    New York  108552.04\n",
              "25        NaN       139553.16        137962.62  California  107404.34\n",
              "26   75328.87       144135.98        134050.07     Florida  105733.54\n",
              "27   72107.60       127864.55        353183.81    New York        NaN\n",
              "28   66051.52       182645.56        118148.20     Florida  103282.38\n",
              "29   65605.48             NaN        107138.38    New York        NaN\n",
              "30   61994.48       115641.28         91131.24     Florida   99937.59\n",
              "31   61136.38       152701.92         88218.23    New York        NaN\n",
              "32   63408.86       129219.61         46085.25  California   97427.84\n",
              "33   55493.95       103057.49              NaN     Florida   96778.92\n",
              "34        NaN       157693.92        210797.67  California   96712.80\n",
              "35   46014.02        85047.44        205517.64    New York        NaN\n",
              "36   28663.76       127056.21        201126.82     Florida   90708.19\n",
              "37   44069.95        51283.14        197029.42  California   89949.14\n",
              "38   20229.59        65947.93        185265.10    New York   81229.06\n",
              "39   38558.51             NaN        174999.30  California   81005.76\n",
              "40   28754.33       118546.05        172795.67         NaN        NaN\n",
              "41   27892.92        84710.77        164470.71     Florida   77798.83\n",
              "42        NaN        96189.63        148001.11  California   71498.49\n",
              "43   15505.73       127382.30         35534.17    New York   69758.98\n",
              "44   22177.74       154806.14         28334.72  California        NaN\n",
              "45    1000.23       124153.04          1903.93    New York        NaN\n",
              "46    1315.46       115816.21        297114.46     Florida   49490.75\n",
              "47       0.00       135426.92             0.00  California   42559.73\n",
              "48     542.05        51743.15             0.00         NaN        NaN\n",
              "49       0.00       116983.80         45173.06  California   14681.40"
            ]
          },
          "metadata": {},
          "execution_count": 2
        }
      ]
    },
    {
      "cell_type": "markdown",
      "metadata": {
        "id": "RaQJeeLiSFPp"
      },
      "source": [
        "**<h3>Type of the dataset imported</h3>**"
      ]
    },
    {
      "cell_type": "code",
      "metadata": {
        "colab": {
          "base_uri": "https://localhost:8080/"
        },
        "id": "_6sZAELbReba",
        "outputId": "ed0c65bb-1605-42b2-bb79-16443910a09d"
      },
      "source": [
        "type(startups_dataset)"
      ],
      "execution_count": null,
      "outputs": [
        {
          "output_type": "execute_result",
          "data": {
            "text/plain": [
              "pandas.core.frame.DataFrame"
            ]
          },
          "metadata": {},
          "execution_count": 3
        }
      ]
    },
    {
      "cell_type": "markdown",
      "metadata": {
        "id": "neFjefaPY4Wp"
      },
      "source": [
        "**<h3>Size of the dataset</h3>**"
      ]
    },
    {
      "cell_type": "code",
      "metadata": {
        "colab": {
          "base_uri": "https://localhost:8080/"
        },
        "id": "FNQkG4ZRSLD3",
        "outputId": "394a5d9f-47e9-4196-845b-0955ed30e1e5"
      },
      "source": [
        "startups_dataset.shape"
      ],
      "execution_count": null,
      "outputs": [
        {
          "output_type": "execute_result",
          "data": {
            "text/plain": [
              "(50, 5)"
            ]
          },
          "metadata": {},
          "execution_count": 4
        }
      ]
    },
    {
      "cell_type": "markdown",
      "metadata": {
        "id": "Vy2eb552ZDEx"
      },
      "source": [
        "This 50 Startups dataset consists of 50 rows and 5 columns"
      ]
    },
    {
      "cell_type": "code",
      "metadata": {
        "colab": {
          "base_uri": "https://localhost:8080/",
          "height": 204
        },
        "id": "m8J0Sq_8SN8s",
        "outputId": "e42f0d1f-c13b-495d-adaa-ea5e25532ca9"
      },
      "source": [
        "startups_dataset.head()"
      ],
      "execution_count": null,
      "outputs": [
        {
          "output_type": "execute_result",
          "data": {
            "text/html": [
              "<div>\n",
              "<style scoped>\n",
              "    .dataframe tbody tr th:only-of-type {\n",
              "        vertical-align: middle;\n",
              "    }\n",
              "\n",
              "    .dataframe tbody tr th {\n",
              "        vertical-align: top;\n",
              "    }\n",
              "\n",
              "    .dataframe thead th {\n",
              "        text-align: right;\n",
              "    }\n",
              "</style>\n",
              "<table border=\"1\" class=\"dataframe\">\n",
              "  <thead>\n",
              "    <tr style=\"text-align: right;\">\n",
              "      <th></th>\n",
              "      <th>R&amp;D Spend</th>\n",
              "      <th>Administration</th>\n",
              "      <th>Marketing Spend</th>\n",
              "      <th>State</th>\n",
              "      <th>Profit</th>\n",
              "    </tr>\n",
              "  </thead>\n",
              "  <tbody>\n",
              "    <tr>\n",
              "      <th>0</th>\n",
              "      <td>165349.20</td>\n",
              "      <td>136897.80</td>\n",
              "      <td>471784.10</td>\n",
              "      <td>New York</td>\n",
              "      <td>192261.83</td>\n",
              "    </tr>\n",
              "    <tr>\n",
              "      <th>1</th>\n",
              "      <td>162597.70</td>\n",
              "      <td>151377.59</td>\n",
              "      <td>NaN</td>\n",
              "      <td>California</td>\n",
              "      <td>NaN</td>\n",
              "    </tr>\n",
              "    <tr>\n",
              "      <th>2</th>\n",
              "      <td>153441.51</td>\n",
              "      <td>101145.55</td>\n",
              "      <td>407934.54</td>\n",
              "      <td>Florida</td>\n",
              "      <td>191050.39</td>\n",
              "    </tr>\n",
              "    <tr>\n",
              "      <th>3</th>\n",
              "      <td>144372.41</td>\n",
              "      <td>118671.85</td>\n",
              "      <td>383199.62</td>\n",
              "      <td>New York</td>\n",
              "      <td>NaN</td>\n",
              "    </tr>\n",
              "    <tr>\n",
              "      <th>4</th>\n",
              "      <td>142107.34</td>\n",
              "      <td>91391.77</td>\n",
              "      <td>366168.42</td>\n",
              "      <td>Florida</td>\n",
              "      <td>166187.94</td>\n",
              "    </tr>\n",
              "  </tbody>\n",
              "</table>\n",
              "</div>"
            ],
            "text/plain": [
              "   R&D Spend  Administration  Marketing Spend       State     Profit\n",
              "0  165349.20       136897.80        471784.10    New York  192261.83\n",
              "1  162597.70       151377.59              NaN  California        NaN\n",
              "2  153441.51       101145.55        407934.54     Florida  191050.39\n",
              "3  144372.41       118671.85        383199.62    New York        NaN\n",
              "4  142107.34        91391.77        366168.42     Florida  166187.94"
            ]
          },
          "metadata": {},
          "execution_count": 5
        }
      ]
    },
    {
      "cell_type": "code",
      "metadata": {
        "colab": {
          "base_uri": "https://localhost:8080/",
          "height": 204
        },
        "id": "bfJg5N5SSV-u",
        "outputId": "46521d71-3c67-4747-9b49-c76aaa0a7786"
      },
      "source": [
        "startups_dataset.tail()"
      ],
      "execution_count": null,
      "outputs": [
        {
          "output_type": "execute_result",
          "data": {
            "text/html": [
              "<div>\n",
              "<style scoped>\n",
              "    .dataframe tbody tr th:only-of-type {\n",
              "        vertical-align: middle;\n",
              "    }\n",
              "\n",
              "    .dataframe tbody tr th {\n",
              "        vertical-align: top;\n",
              "    }\n",
              "\n",
              "    .dataframe thead th {\n",
              "        text-align: right;\n",
              "    }\n",
              "</style>\n",
              "<table border=\"1\" class=\"dataframe\">\n",
              "  <thead>\n",
              "    <tr style=\"text-align: right;\">\n",
              "      <th></th>\n",
              "      <th>R&amp;D Spend</th>\n",
              "      <th>Administration</th>\n",
              "      <th>Marketing Spend</th>\n",
              "      <th>State</th>\n",
              "      <th>Profit</th>\n",
              "    </tr>\n",
              "  </thead>\n",
              "  <tbody>\n",
              "    <tr>\n",
              "      <th>45</th>\n",
              "      <td>1000.23</td>\n",
              "      <td>124153.04</td>\n",
              "      <td>1903.93</td>\n",
              "      <td>New York</td>\n",
              "      <td>NaN</td>\n",
              "    </tr>\n",
              "    <tr>\n",
              "      <th>46</th>\n",
              "      <td>1315.46</td>\n",
              "      <td>115816.21</td>\n",
              "      <td>297114.46</td>\n",
              "      <td>Florida</td>\n",
              "      <td>49490.75</td>\n",
              "    </tr>\n",
              "    <tr>\n",
              "      <th>47</th>\n",
              "      <td>0.00</td>\n",
              "      <td>135426.92</td>\n",
              "      <td>0.00</td>\n",
              "      <td>California</td>\n",
              "      <td>42559.73</td>\n",
              "    </tr>\n",
              "    <tr>\n",
              "      <th>48</th>\n",
              "      <td>542.05</td>\n",
              "      <td>51743.15</td>\n",
              "      <td>0.00</td>\n",
              "      <td>NaN</td>\n",
              "      <td>NaN</td>\n",
              "    </tr>\n",
              "    <tr>\n",
              "      <th>49</th>\n",
              "      <td>0.00</td>\n",
              "      <td>116983.80</td>\n",
              "      <td>45173.06</td>\n",
              "      <td>California</td>\n",
              "      <td>14681.40</td>\n",
              "    </tr>\n",
              "  </tbody>\n",
              "</table>\n",
              "</div>"
            ],
            "text/plain": [
              "    R&D Spend  Administration  Marketing Spend       State    Profit\n",
              "45    1000.23       124153.04          1903.93    New York       NaN\n",
              "46    1315.46       115816.21        297114.46     Florida  49490.75\n",
              "47       0.00       135426.92             0.00  California  42559.73\n",
              "48     542.05        51743.15             0.00         NaN       NaN\n",
              "49       0.00       116983.80         45173.06  California  14681.40"
            ]
          },
          "metadata": {},
          "execution_count": 6
        }
      ]
    },
    {
      "cell_type": "markdown",
      "metadata": {
        "id": "npE8T73SZTeF"
      },
      "source": [
        "**<h3>Name of all the columns (labels)</h3>**"
      ]
    },
    {
      "cell_type": "code",
      "metadata": {
        "colab": {
          "base_uri": "https://localhost:8080/"
        },
        "id": "ZQhoTJfMZTzz",
        "outputId": "c2ee13fe-58b2-4ca4-f00e-c5c9400805ee"
      },
      "source": [
        "startups_dataset.columns"
      ],
      "execution_count": null,
      "outputs": [
        {
          "output_type": "execute_result",
          "data": {
            "text/plain": [
              "Index(['R&D Spend', 'Administration', 'Marketing Spend', 'State', 'Profit'], dtype='object')"
            ]
          },
          "metadata": {},
          "execution_count": 45
        }
      ]
    },
    {
      "cell_type": "markdown",
      "metadata": {
        "id": "qVtWrPQcZkGu"
      },
      "source": [
        "The 5 columns are R&D Spend, Administration, Marketing Spend, State and Profit."
      ]
    },
    {
      "cell_type": "markdown",
      "metadata": {
        "id": "20a9cQkdZ4-F"
      },
      "source": [
        "**<h3>DATA PRE-PROCESSING: FINDING OUT NaN VALUES</h3>**"
      ]
    },
    {
      "cell_type": "code",
      "metadata": {
        "colab": {
          "base_uri": "https://localhost:8080/",
          "height": 1000
        },
        "id": "oQnOVTbblhtY",
        "outputId": "fe7ac844-3505-45f7-a7e9-61cb6fd7ce8d"
      },
      "source": [
        "startups_dataset.isna()"
      ],
      "execution_count": null,
      "outputs": [
        {
          "output_type": "execute_result",
          "data": {
            "text/html": [
              "<div>\n",
              "<style scoped>\n",
              "    .dataframe tbody tr th:only-of-type {\n",
              "        vertical-align: middle;\n",
              "    }\n",
              "\n",
              "    .dataframe tbody tr th {\n",
              "        vertical-align: top;\n",
              "    }\n",
              "\n",
              "    .dataframe thead th {\n",
              "        text-align: right;\n",
              "    }\n",
              "</style>\n",
              "<table border=\"1\" class=\"dataframe\">\n",
              "  <thead>\n",
              "    <tr style=\"text-align: right;\">\n",
              "      <th></th>\n",
              "      <th>R&amp;D Spend</th>\n",
              "      <th>Administration</th>\n",
              "      <th>Marketing Spend</th>\n",
              "      <th>State</th>\n",
              "      <th>Profit</th>\n",
              "    </tr>\n",
              "  </thead>\n",
              "  <tbody>\n",
              "    <tr>\n",
              "      <th>0</th>\n",
              "      <td>False</td>\n",
              "      <td>False</td>\n",
              "      <td>False</td>\n",
              "      <td>False</td>\n",
              "      <td>False</td>\n",
              "    </tr>\n",
              "    <tr>\n",
              "      <th>1</th>\n",
              "      <td>False</td>\n",
              "      <td>False</td>\n",
              "      <td>True</td>\n",
              "      <td>False</td>\n",
              "      <td>True</td>\n",
              "    </tr>\n",
              "    <tr>\n",
              "      <th>2</th>\n",
              "      <td>False</td>\n",
              "      <td>False</td>\n",
              "      <td>False</td>\n",
              "      <td>False</td>\n",
              "      <td>False</td>\n",
              "    </tr>\n",
              "    <tr>\n",
              "      <th>3</th>\n",
              "      <td>False</td>\n",
              "      <td>False</td>\n",
              "      <td>False</td>\n",
              "      <td>False</td>\n",
              "      <td>True</td>\n",
              "    </tr>\n",
              "    <tr>\n",
              "      <th>4</th>\n",
              "      <td>False</td>\n",
              "      <td>False</td>\n",
              "      <td>False</td>\n",
              "      <td>False</td>\n",
              "      <td>False</td>\n",
              "    </tr>\n",
              "    <tr>\n",
              "      <th>5</th>\n",
              "      <td>False</td>\n",
              "      <td>True</td>\n",
              "      <td>False</td>\n",
              "      <td>True</td>\n",
              "      <td>False</td>\n",
              "    </tr>\n",
              "    <tr>\n",
              "      <th>6</th>\n",
              "      <td>True</td>\n",
              "      <td>False</td>\n",
              "      <td>False</td>\n",
              "      <td>False</td>\n",
              "      <td>False</td>\n",
              "    </tr>\n",
              "    <tr>\n",
              "      <th>7</th>\n",
              "      <td>False</td>\n",
              "      <td>False</td>\n",
              "      <td>False</td>\n",
              "      <td>False</td>\n",
              "      <td>True</td>\n",
              "    </tr>\n",
              "    <tr>\n",
              "      <th>8</th>\n",
              "      <td>False</td>\n",
              "      <td>False</td>\n",
              "      <td>False</td>\n",
              "      <td>True</td>\n",
              "      <td>False</td>\n",
              "    </tr>\n",
              "    <tr>\n",
              "      <th>9</th>\n",
              "      <td>False</td>\n",
              "      <td>False</td>\n",
              "      <td>False</td>\n",
              "      <td>False</td>\n",
              "      <td>False</td>\n",
              "    </tr>\n",
              "    <tr>\n",
              "      <th>10</th>\n",
              "      <td>False</td>\n",
              "      <td>False</td>\n",
              "      <td>False</td>\n",
              "      <td>False</td>\n",
              "      <td>False</td>\n",
              "    </tr>\n",
              "    <tr>\n",
              "      <th>11</th>\n",
              "      <td>False</td>\n",
              "      <td>False</td>\n",
              "      <td>False</td>\n",
              "      <td>False</td>\n",
              "      <td>True</td>\n",
              "    </tr>\n",
              "    <tr>\n",
              "      <th>12</th>\n",
              "      <td>False</td>\n",
              "      <td>False</td>\n",
              "      <td>False</td>\n",
              "      <td>False</td>\n",
              "      <td>False</td>\n",
              "    </tr>\n",
              "    <tr>\n",
              "      <th>13</th>\n",
              "      <td>False</td>\n",
              "      <td>False</td>\n",
              "      <td>False</td>\n",
              "      <td>False</td>\n",
              "      <td>False</td>\n",
              "    </tr>\n",
              "    <tr>\n",
              "      <th>14</th>\n",
              "      <td>False</td>\n",
              "      <td>False</td>\n",
              "      <td>False</td>\n",
              "      <td>False</td>\n",
              "      <td>False</td>\n",
              "    </tr>\n",
              "    <tr>\n",
              "      <th>15</th>\n",
              "      <td>True</td>\n",
              "      <td>False</td>\n",
              "      <td>False</td>\n",
              "      <td>False</td>\n",
              "      <td>False</td>\n",
              "    </tr>\n",
              "    <tr>\n",
              "      <th>16</th>\n",
              "      <td>False</td>\n",
              "      <td>True</td>\n",
              "      <td>False</td>\n",
              "      <td>False</td>\n",
              "      <td>True</td>\n",
              "    </tr>\n",
              "    <tr>\n",
              "      <th>17</th>\n",
              "      <td>False</td>\n",
              "      <td>False</td>\n",
              "      <td>False</td>\n",
              "      <td>False</td>\n",
              "      <td>False</td>\n",
              "    </tr>\n",
              "    <tr>\n",
              "      <th>18</th>\n",
              "      <td>False</td>\n",
              "      <td>False</td>\n",
              "      <td>False</td>\n",
              "      <td>False</td>\n",
              "      <td>False</td>\n",
              "    </tr>\n",
              "    <tr>\n",
              "      <th>19</th>\n",
              "      <td>False</td>\n",
              "      <td>False</td>\n",
              "      <td>False</td>\n",
              "      <td>False</td>\n",
              "      <td>True</td>\n",
              "    </tr>\n",
              "    <tr>\n",
              "      <th>20</th>\n",
              "      <td>False</td>\n",
              "      <td>False</td>\n",
              "      <td>False</td>\n",
              "      <td>False</td>\n",
              "      <td>False</td>\n",
              "    </tr>\n",
              "    <tr>\n",
              "      <th>21</th>\n",
              "      <td>False</td>\n",
              "      <td>False</td>\n",
              "      <td>False</td>\n",
              "      <td>False</td>\n",
              "      <td>False</td>\n",
              "    </tr>\n",
              "    <tr>\n",
              "      <th>22</th>\n",
              "      <td>False</td>\n",
              "      <td>False</td>\n",
              "      <td>False</td>\n",
              "      <td>False</td>\n",
              "      <td>True</td>\n",
              "    </tr>\n",
              "    <tr>\n",
              "      <th>23</th>\n",
              "      <td>False</td>\n",
              "      <td>False</td>\n",
              "      <td>False</td>\n",
              "      <td>False</td>\n",
              "      <td>True</td>\n",
              "    </tr>\n",
              "    <tr>\n",
              "      <th>24</th>\n",
              "      <td>False</td>\n",
              "      <td>False</td>\n",
              "      <td>False</td>\n",
              "      <td>False</td>\n",
              "      <td>False</td>\n",
              "    </tr>\n",
              "    <tr>\n",
              "      <th>25</th>\n",
              "      <td>True</td>\n",
              "      <td>False</td>\n",
              "      <td>False</td>\n",
              "      <td>False</td>\n",
              "      <td>False</td>\n",
              "    </tr>\n",
              "    <tr>\n",
              "      <th>26</th>\n",
              "      <td>False</td>\n",
              "      <td>False</td>\n",
              "      <td>False</td>\n",
              "      <td>False</td>\n",
              "      <td>False</td>\n",
              "    </tr>\n",
              "    <tr>\n",
              "      <th>27</th>\n",
              "      <td>False</td>\n",
              "      <td>False</td>\n",
              "      <td>False</td>\n",
              "      <td>False</td>\n",
              "      <td>True</td>\n",
              "    </tr>\n",
              "    <tr>\n",
              "      <th>28</th>\n",
              "      <td>False</td>\n",
              "      <td>False</td>\n",
              "      <td>False</td>\n",
              "      <td>False</td>\n",
              "      <td>False</td>\n",
              "    </tr>\n",
              "    <tr>\n",
              "      <th>29</th>\n",
              "      <td>False</td>\n",
              "      <td>True</td>\n",
              "      <td>False</td>\n",
              "      <td>False</td>\n",
              "      <td>True</td>\n",
              "    </tr>\n",
              "    <tr>\n",
              "      <th>30</th>\n",
              "      <td>False</td>\n",
              "      <td>False</td>\n",
              "      <td>False</td>\n",
              "      <td>False</td>\n",
              "      <td>False</td>\n",
              "    </tr>\n",
              "    <tr>\n",
              "      <th>31</th>\n",
              "      <td>False</td>\n",
              "      <td>False</td>\n",
              "      <td>False</td>\n",
              "      <td>False</td>\n",
              "      <td>True</td>\n",
              "    </tr>\n",
              "    <tr>\n",
              "      <th>32</th>\n",
              "      <td>False</td>\n",
              "      <td>False</td>\n",
              "      <td>False</td>\n",
              "      <td>False</td>\n",
              "      <td>False</td>\n",
              "    </tr>\n",
              "    <tr>\n",
              "      <th>33</th>\n",
              "      <td>False</td>\n",
              "      <td>False</td>\n",
              "      <td>True</td>\n",
              "      <td>False</td>\n",
              "      <td>False</td>\n",
              "    </tr>\n",
              "    <tr>\n",
              "      <th>34</th>\n",
              "      <td>True</td>\n",
              "      <td>False</td>\n",
              "      <td>False</td>\n",
              "      <td>False</td>\n",
              "      <td>False</td>\n",
              "    </tr>\n",
              "    <tr>\n",
              "      <th>35</th>\n",
              "      <td>False</td>\n",
              "      <td>False</td>\n",
              "      <td>False</td>\n",
              "      <td>False</td>\n",
              "      <td>True</td>\n",
              "    </tr>\n",
              "    <tr>\n",
              "      <th>36</th>\n",
              "      <td>False</td>\n",
              "      <td>False</td>\n",
              "      <td>False</td>\n",
              "      <td>False</td>\n",
              "      <td>False</td>\n",
              "    </tr>\n",
              "    <tr>\n",
              "      <th>37</th>\n",
              "      <td>False</td>\n",
              "      <td>False</td>\n",
              "      <td>False</td>\n",
              "      <td>False</td>\n",
              "      <td>False</td>\n",
              "    </tr>\n",
              "    <tr>\n",
              "      <th>38</th>\n",
              "      <td>False</td>\n",
              "      <td>False</td>\n",
              "      <td>False</td>\n",
              "      <td>False</td>\n",
              "      <td>False</td>\n",
              "    </tr>\n",
              "    <tr>\n",
              "      <th>39</th>\n",
              "      <td>False</td>\n",
              "      <td>True</td>\n",
              "      <td>False</td>\n",
              "      <td>False</td>\n",
              "      <td>False</td>\n",
              "    </tr>\n",
              "    <tr>\n",
              "      <th>40</th>\n",
              "      <td>False</td>\n",
              "      <td>False</td>\n",
              "      <td>False</td>\n",
              "      <td>True</td>\n",
              "      <td>True</td>\n",
              "    </tr>\n",
              "    <tr>\n",
              "      <th>41</th>\n",
              "      <td>False</td>\n",
              "      <td>False</td>\n",
              "      <td>False</td>\n",
              "      <td>False</td>\n",
              "      <td>False</td>\n",
              "    </tr>\n",
              "    <tr>\n",
              "      <th>42</th>\n",
              "      <td>True</td>\n",
              "      <td>False</td>\n",
              "      <td>False</td>\n",
              "      <td>False</td>\n",
              "      <td>False</td>\n",
              "    </tr>\n",
              "    <tr>\n",
              "      <th>43</th>\n",
              "      <td>False</td>\n",
              "      <td>False</td>\n",
              "      <td>False</td>\n",
              "      <td>False</td>\n",
              "      <td>False</td>\n",
              "    </tr>\n",
              "    <tr>\n",
              "      <th>44</th>\n",
              "      <td>False</td>\n",
              "      <td>False</td>\n",
              "      <td>False</td>\n",
              "      <td>False</td>\n",
              "      <td>True</td>\n",
              "    </tr>\n",
              "    <tr>\n",
              "      <th>45</th>\n",
              "      <td>False</td>\n",
              "      <td>False</td>\n",
              "      <td>False</td>\n",
              "      <td>False</td>\n",
              "      <td>True</td>\n",
              "    </tr>\n",
              "    <tr>\n",
              "      <th>46</th>\n",
              "      <td>False</td>\n",
              "      <td>False</td>\n",
              "      <td>False</td>\n",
              "      <td>False</td>\n",
              "      <td>False</td>\n",
              "    </tr>\n",
              "    <tr>\n",
              "      <th>47</th>\n",
              "      <td>False</td>\n",
              "      <td>False</td>\n",
              "      <td>False</td>\n",
              "      <td>False</td>\n",
              "      <td>False</td>\n",
              "    </tr>\n",
              "    <tr>\n",
              "      <th>48</th>\n",
              "      <td>False</td>\n",
              "      <td>False</td>\n",
              "      <td>False</td>\n",
              "      <td>True</td>\n",
              "      <td>True</td>\n",
              "    </tr>\n",
              "    <tr>\n",
              "      <th>49</th>\n",
              "      <td>False</td>\n",
              "      <td>False</td>\n",
              "      <td>False</td>\n",
              "      <td>False</td>\n",
              "      <td>False</td>\n",
              "    </tr>\n",
              "  </tbody>\n",
              "</table>\n",
              "</div>"
            ],
            "text/plain": [
              "    R&D Spend  Administration  Marketing Spend  State  Profit\n",
              "0       False           False            False  False   False\n",
              "1       False           False             True  False    True\n",
              "2       False           False            False  False   False\n",
              "3       False           False            False  False    True\n",
              "4       False           False            False  False   False\n",
              "5       False            True            False   True   False\n",
              "6        True           False            False  False   False\n",
              "7       False           False            False  False    True\n",
              "8       False           False            False   True   False\n",
              "9       False           False            False  False   False\n",
              "10      False           False            False  False   False\n",
              "11      False           False            False  False    True\n",
              "12      False           False            False  False   False\n",
              "13      False           False            False  False   False\n",
              "14      False           False            False  False   False\n",
              "15       True           False            False  False   False\n",
              "16      False            True            False  False    True\n",
              "17      False           False            False  False   False\n",
              "18      False           False            False  False   False\n",
              "19      False           False            False  False    True\n",
              "20      False           False            False  False   False\n",
              "21      False           False            False  False   False\n",
              "22      False           False            False  False    True\n",
              "23      False           False            False  False    True\n",
              "24      False           False            False  False   False\n",
              "25       True           False            False  False   False\n",
              "26      False           False            False  False   False\n",
              "27      False           False            False  False    True\n",
              "28      False           False            False  False   False\n",
              "29      False            True            False  False    True\n",
              "30      False           False            False  False   False\n",
              "31      False           False            False  False    True\n",
              "32      False           False            False  False   False\n",
              "33      False           False             True  False   False\n",
              "34       True           False            False  False   False\n",
              "35      False           False            False  False    True\n",
              "36      False           False            False  False   False\n",
              "37      False           False            False  False   False\n",
              "38      False           False            False  False   False\n",
              "39      False            True            False  False   False\n",
              "40      False           False            False   True    True\n",
              "41      False           False            False  False   False\n",
              "42       True           False            False  False   False\n",
              "43      False           False            False  False   False\n",
              "44      False           False            False  False    True\n",
              "45      False           False            False  False    True\n",
              "46      False           False            False  False   False\n",
              "47      False           False            False  False   False\n",
              "48      False           False            False   True    True\n",
              "49      False           False            False  False   False"
            ]
          },
          "metadata": {},
          "execution_count": 7
        }
      ]
    },
    {
      "cell_type": "code",
      "metadata": {
        "colab": {
          "base_uri": "https://localhost:8080/"
        },
        "id": "A0WWMoORSY4J",
        "outputId": "e1c1bd55-ecf5-45c2-bb56-8fccdce5a4ff"
      },
      "source": [
        "startups_dataset.isnull().any()"
      ],
      "execution_count": null,
      "outputs": [
        {
          "output_type": "execute_result",
          "data": {
            "text/plain": [
              "R&D Spend          True\n",
              "Administration     True\n",
              "Marketing Spend    True\n",
              "State              True\n",
              "Profit             True\n",
              "dtype: bool"
            ]
          },
          "metadata": {},
          "execution_count": 8
        }
      ]
    },
    {
      "cell_type": "markdown",
      "metadata": {
        "id": "S_rByDOpaHqa"
      },
      "source": [
        "This gives True if there are any NaN values. Hence, we find that all of the columns have NaN values. <br>\n",
        "The number of NaN values in each columns is:"
      ]
    },
    {
      "cell_type": "code",
      "metadata": {
        "colab": {
          "base_uri": "https://localhost:8080/"
        },
        "id": "ErUp3Ibwk9my",
        "outputId": "42403158-574f-4538-b932-9319c1ef9fca"
      },
      "source": [
        "startups_dataset.isnull().sum()"
      ],
      "execution_count": null,
      "outputs": [
        {
          "output_type": "execute_result",
          "data": {
            "text/plain": [
              "R&D Spend           5\n",
              "Administration      4\n",
              "Marketing Spend     2\n",
              "State               4\n",
              "Profit             16\n",
              "dtype: int64"
            ]
          },
          "metadata": {},
          "execution_count": 9
        }
      ]
    },
    {
      "cell_type": "markdown",
      "metadata": {
        "id": "UduIeri_aYBh"
      },
      "source": [
        "**barplot showing number of NaN values:**"
      ]
    },
    {
      "cell_type": "code",
      "metadata": {
        "colab": {
          "base_uri": "https://localhost:8080/",
          "height": 396
        },
        "id": "_r5zVm7WzMO5",
        "outputId": "b34f4ca5-5b0f-4f86-a46b-584741390c60"
      },
      "source": [
        "na_counts = startups_dataset.isna().sum()\n",
        "sns.barplot(na_counts.index.values, na_counts)\n",
        "plt.xticks(rotation=90);"
      ],
      "execution_count": null,
      "outputs": [
        {
          "output_type": "stream",
          "name": "stderr",
          "text": [
            "/usr/local/lib/python3.7/dist-packages/seaborn/_decorators.py:43: FutureWarning: Pass the following variables as keyword args: x, y. From version 0.12, the only valid positional argument will be `data`, and passing other arguments without an explicit keyword will result in an error or misinterpretation.\n",
            "  FutureWarning\n"
          ]
        },
        {
          "output_type": "display_data",
          "data": {
            "image/png": "[encoded data removed]",
            "text/plain": [
              "<Figure size 432x288 with 1 Axes>"
            ]
          },
          "metadata": {
            "needs_background": "light"
          }
        }
      ]
    },
    {
      "cell_type": "markdown",
      "metadata": {
        "id": "Tyk3vtcla0dY"
      },
      "source": [
        "Filling out the (numerical) missing values (NaN) by taking the average of the columns using fillna.\n"
      ]
    },
    {
      "cell_type": "code",
      "metadata": {
        "id": "mjvDNsqXtsz8"
      },
      "source": [
        "startups_dataset.fillna(startups_dataset.mean(), axis=0, inplace=True)"
      ],
      "execution_count": null,
      "outputs": []
    },
    {
      "cell_type": "code",
      "metadata": {
        "colab": {
          "base_uri": "https://localhost:8080/",
          "height": 1000
        },
        "id": "coUw_AnsucCP",
        "outputId": "d8f0b751-1837-4398-8314-94aa385c5373"
      },
      "source": [
        "startups_dataset"
      ],
      "execution_count": null,
      "outputs": [
        {
          "output_type": "execute_result",
          "data": {
            "text/html": [
              "<div>\n",
              "<style scoped>\n",
              "    .dataframe tbody tr th:only-of-type {\n",
              "        vertical-align: middle;\n",
              "    }\n",
              "\n",
              "    .dataframe tbody tr th {\n",
              "        vertical-align: top;\n",
              "    }\n",
              "\n",
              "    .dataframe thead th {\n",
              "        text-align: right;\n",
              "    }\n",
              "</style>\n",
              "<table border=\"1\" class=\"dataframe\">\n",
              "  <thead>\n",
              "    <tr style=\"text-align: right;\">\n",
              "      <th></th>\n",
              "      <th>R&amp;D Spend</th>\n",
              "      <th>Administration</th>\n",
              "      <th>Marketing Spend</th>\n",
              "      <th>State</th>\n",
              "      <th>Profit</th>\n",
              "    </tr>\n",
              "  </thead>\n",
              "  <tbody>\n",
              "    <tr>\n",
              "      <th>0</th>\n",
              "      <td>165349.200000</td>\n",
              "      <td>136897.800</td>\n",
              "      <td>471784.100000</td>\n",
              "      <td>New York</td>\n",
              "      <td>192261.830000</td>\n",
              "    </tr>\n",
              "    <tr>\n",
              "      <th>1</th>\n",
              "      <td>162597.700000</td>\n",
              "      <td>151377.590</td>\n",
              "      <td>200834.512917</td>\n",
              "      <td>California</td>\n",
              "      <td>112148.650882</td>\n",
              "    </tr>\n",
              "    <tr>\n",
              "      <th>2</th>\n",
              "      <td>153441.510000</td>\n",
              "      <td>101145.550</td>\n",
              "      <td>407934.540000</td>\n",
              "      <td>Florida</td>\n",
              "      <td>191050.390000</td>\n",
              "    </tr>\n",
              "    <tr>\n",
              "      <th>3</th>\n",
              "      <td>144372.410000</td>\n",
              "      <td>118671.850</td>\n",
              "      <td>383199.620000</td>\n",
              "      <td>New York</td>\n",
              "      <td>112148.650882</td>\n",
              "    </tr>\n",
              "    <tr>\n",
              "      <th>4</th>\n",
              "      <td>142107.340000</td>\n",
              "      <td>91391.770</td>\n",
              "      <td>366168.420000</td>\n",
              "      <td>Florida</td>\n",
              "      <td>166187.940000</td>\n",
              "    </tr>\n",
              "    <tr>\n",
              "      <th>5</th>\n",
              "      <td>131876.900000</td>\n",
              "      <td>121952.295</td>\n",
              "      <td>362861.360000</td>\n",
              "      <td>NaN</td>\n",
              "      <td>156991.120000</td>\n",
              "    </tr>\n",
              "    <tr>\n",
              "      <th>6</th>\n",
              "      <td>73382.444444</td>\n",
              "      <td>147198.870</td>\n",
              "      <td>127716.820000</td>\n",
              "      <td>California</td>\n",
              "      <td>156122.510000</td>\n",
              "    </tr>\n",
              "    <tr>\n",
              "      <th>7</th>\n",
              "      <td>130298.130000</td>\n",
              "      <td>145530.060</td>\n",
              "      <td>323876.680000</td>\n",
              "      <td>Florida</td>\n",
              "      <td>112148.650882</td>\n",
              "    </tr>\n",
              "    <tr>\n",
              "      <th>8</th>\n",
              "      <td>120542.520000</td>\n",
              "      <td>148718.950</td>\n",
              "      <td>311613.290000</td>\n",
              "      <td>NaN</td>\n",
              "      <td>152211.770000</td>\n",
              "    </tr>\n",
              "    <tr>\n",
              "      <th>9</th>\n",
              "      <td>123334.880000</td>\n",
              "      <td>108679.170</td>\n",
              "      <td>304981.620000</td>\n",
              "      <td>California</td>\n",
              "      <td>149759.960000</td>\n",
              "    </tr>\n",
              "    <tr>\n",
              "      <th>10</th>\n",
              "      <td>101913.080000</td>\n",
              "      <td>110594.110</td>\n",
              "      <td>229160.950000</td>\n",
              "      <td>Florida</td>\n",
              "      <td>146121.950000</td>\n",
              "    </tr>\n",
              "    <tr>\n",
              "      <th>11</th>\n",
              "      <td>100671.960000</td>\n",
              "      <td>91790.610</td>\n",
              "      <td>249744.550000</td>\n",
              "      <td>California</td>\n",
              "      <td>112148.650882</td>\n",
              "    </tr>\n",
              "    <tr>\n",
              "      <th>12</th>\n",
              "      <td>93863.750000</td>\n",
              "      <td>127320.380</td>\n",
              "      <td>249839.440000</td>\n",
              "      <td>Florida</td>\n",
              "      <td>141585.520000</td>\n",
              "    </tr>\n",
              "    <tr>\n",
              "      <th>13</th>\n",
              "      <td>91992.390000</td>\n",
              "      <td>135495.070</td>\n",
              "      <td>0.000000</td>\n",
              "      <td>California</td>\n",
              "      <td>134307.350000</td>\n",
              "    </tr>\n",
              "    <tr>\n",
              "      <th>14</th>\n",
              "      <td>119943.240000</td>\n",
              "      <td>156547.420</td>\n",
              "      <td>256512.920000</td>\n",
              "      <td>Florida</td>\n",
              "      <td>132602.650000</td>\n",
              "    </tr>\n",
              "    <tr>\n",
              "      <th>15</th>\n",
              "      <td>73382.444444</td>\n",
              "      <td>122616.840</td>\n",
              "      <td>261776.230000</td>\n",
              "      <td>New York</td>\n",
              "      <td>129917.040000</td>\n",
              "    </tr>\n",
              "    <tr>\n",
              "      <th>16</th>\n",
              "      <td>78013.110000</td>\n",
              "      <td>121952.295</td>\n",
              "      <td>264346.060000</td>\n",
              "      <td>California</td>\n",
              "      <td>112148.650882</td>\n",
              "    </tr>\n",
              "    <tr>\n",
              "      <th>17</th>\n",
              "      <td>94657.160000</td>\n",
              "      <td>145077.580</td>\n",
              "      <td>282574.310000</td>\n",
              "      <td>New York</td>\n",
              "      <td>125370.370000</td>\n",
              "    </tr>\n",
              "    <tr>\n",
              "      <th>18</th>\n",
              "      <td>91749.160000</td>\n",
              "      <td>114175.790</td>\n",
              "      <td>294919.570000</td>\n",
              "      <td>Florida</td>\n",
              "      <td>124266.900000</td>\n",
              "    </tr>\n",
              "    <tr>\n",
              "      <th>19</th>\n",
              "      <td>86419.700000</td>\n",
              "      <td>153514.110</td>\n",
              "      <td>0.000000</td>\n",
              "      <td>New York</td>\n",
              "      <td>112148.650882</td>\n",
              "    </tr>\n",
              "    <tr>\n",
              "      <th>20</th>\n",
              "      <td>76253.860000</td>\n",
              "      <td>113867.300</td>\n",
              "      <td>298664.470000</td>\n",
              "      <td>California</td>\n",
              "      <td>118474.030000</td>\n",
              "    </tr>\n",
              "    <tr>\n",
              "      <th>21</th>\n",
              "      <td>78389.470000</td>\n",
              "      <td>153773.430</td>\n",
              "      <td>299737.290000</td>\n",
              "      <td>New York</td>\n",
              "      <td>111313.020000</td>\n",
              "    </tr>\n",
              "    <tr>\n",
              "      <th>22</th>\n",
              "      <td>73994.560000</td>\n",
              "      <td>122782.750</td>\n",
              "      <td>303319.260000</td>\n",
              "      <td>Florida</td>\n",
              "      <td>112148.650882</td>\n",
              "    </tr>\n",
              "    <tr>\n",
              "      <th>23</th>\n",
              "      <td>67532.530000</td>\n",
              "      <td>105751.030</td>\n",
              "      <td>304768.730000</td>\n",
              "      <td>Florida</td>\n",
              "      <td>112148.650882</td>\n",
              "    </tr>\n",
              "    <tr>\n",
              "      <th>24</th>\n",
              "      <td>77044.010000</td>\n",
              "      <td>99281.340</td>\n",
              "      <td>140574.810000</td>\n",
              "      <td>New York</td>\n",
              "      <td>108552.040000</td>\n",
              "    </tr>\n",
              "    <tr>\n",
              "      <th>25</th>\n",
              "      <td>73382.444444</td>\n",
              "      <td>139553.160</td>\n",
              "      <td>137962.620000</td>\n",
              "      <td>California</td>\n",
              "      <td>107404.340000</td>\n",
              "    </tr>\n",
              "    <tr>\n",
              "      <th>26</th>\n",
              "      <td>75328.870000</td>\n",
              "      <td>144135.980</td>\n",
              "      <td>134050.070000</td>\n",
              "      <td>Florida</td>\n",
              "      <td>105733.540000</td>\n",
              "    </tr>\n",
              "    <tr>\n",
              "      <th>27</th>\n",
              "      <td>72107.600000</td>\n",
              "      <td>127864.550</td>\n",
              "      <td>353183.810000</td>\n",
              "      <td>New York</td>\n",
              "      <td>112148.650882</td>\n",
              "    </tr>\n",
              "    <tr>\n",
              "      <th>28</th>\n",
              "      <td>66051.520000</td>\n",
              "      <td>182645.560</td>\n",
              "      <td>118148.200000</td>\n",
              "      <td>Florida</td>\n",
              "      <td>103282.380000</td>\n",
              "    </tr>\n",
              "    <tr>\n",
              "      <th>29</th>\n",
              "      <td>65605.480000</td>\n",
              "      <td>121952.295</td>\n",
              "      <td>107138.380000</td>\n",
              "      <td>New York</td>\n",
              "      <td>112148.650882</td>\n",
              "    </tr>\n",
              "    <tr>\n",
              "      <th>30</th>\n",
              "      <td>61994.480000</td>\n",
              "      <td>115641.280</td>\n",
              "      <td>91131.240000</td>\n",
              "      <td>Florida</td>\n",
              "      <td>99937.590000</td>\n",
              "    </tr>\n",
              "    <tr>\n",
              "      <th>31</th>\n",
              "      <td>61136.380000</td>\n",
              "      <td>152701.920</td>\n",
              "      <td>88218.230000</td>\n",
              "      <td>New York</td>\n",
              "      <td>112148.650882</td>\n",
              "    </tr>\n",
              "    <tr>\n",
              "      <th>32</th>\n",
              "      <td>63408.860000</td>\n",
              "      <td>129219.610</td>\n",
              "      <td>46085.250000</td>\n",
              "      <td>California</td>\n",
              "      <td>97427.840000</td>\n",
              "    </tr>\n",
              "    <tr>\n",
              "      <th>33</th>\n",
              "      <td>55493.950000</td>\n",
              "      <td>103057.490</td>\n",
              "      <td>200834.512917</td>\n",
              "      <td>Florida</td>\n",
              "      <td>96778.920000</td>\n",
              "    </tr>\n",
              "    <tr>\n",
              "      <th>34</th>\n",
              "      <td>73382.444444</td>\n",
              "      <td>157693.920</td>\n",
              "      <td>210797.670000</td>\n",
              "      <td>California</td>\n",
              "      <td>96712.800000</td>\n",
              "    </tr>\n",
              "    <tr>\n",
              "      <th>35</th>\n",
              "      <td>46014.020000</td>\n",
              "      <td>85047.440</td>\n",
              "      <td>205517.640000</td>\n",
              "      <td>New York</td>\n",
              "      <td>112148.650882</td>\n",
              "    </tr>\n",
              "    <tr>\n",
              "      <th>36</th>\n",
              "      <td>28663.760000</td>\n",
              "      <td>127056.210</td>\n",
              "      <td>201126.820000</td>\n",
              "      <td>Florida</td>\n",
              "      <td>90708.190000</td>\n",
              "    </tr>\n",
              "    <tr>\n",
              "      <th>37</th>\n",
              "      <td>44069.950000</td>\n",
              "      <td>51283.140</td>\n",
              "      <td>197029.420000</td>\n",
              "      <td>California</td>\n",
              "      <td>89949.140000</td>\n",
              "    </tr>\n",
              "    <tr>\n",
              "      <th>38</th>\n",
              "      <td>20229.590000</td>\n",
              "      <td>65947.930</td>\n",
              "      <td>185265.100000</td>\n",
              "      <td>New York</td>\n",
              "      <td>81229.060000</td>\n",
              "    </tr>\n",
              "    <tr>\n",
              "      <th>39</th>\n",
              "      <td>38558.510000</td>\n",
              "      <td>121952.295</td>\n",
              "      <td>174999.300000</td>\n",
              "      <td>California</td>\n",
              "      <td>81005.760000</td>\n",
              "    </tr>\n",
              "    <tr>\n",
              "      <th>40</th>\n",
              "      <td>28754.330000</td>\n",
              "      <td>118546.050</td>\n",
              "      <td>172795.670000</td>\n",
              "      <td>NaN</td>\n",
              "      <td>112148.650882</td>\n",
              "    </tr>\n",
              "    <tr>\n",
              "      <th>41</th>\n",
              "      <td>27892.920000</td>\n",
              "      <td>84710.770</td>\n",
              "      <td>164470.710000</td>\n",
              "      <td>Florida</td>\n",
              "      <td>77798.830000</td>\n",
              "    </tr>\n",
              "    <tr>\n",
              "      <th>42</th>\n",
              "      <td>73382.444444</td>\n",
              "      <td>96189.630</td>\n",
              "      <td>148001.110000</td>\n",
              "      <td>California</td>\n",
              "      <td>71498.490000</td>\n",
              "    </tr>\n",
              "    <tr>\n",
              "      <th>43</th>\n",
              "      <td>15505.730000</td>\n",
              "      <td>127382.300</td>\n",
              "      <td>35534.170000</td>\n",
              "      <td>New York</td>\n",
              "      <td>69758.980000</td>\n",
              "    </tr>\n",
              "    <tr>\n",
              "      <th>44</th>\n",
              "      <td>22177.740000</td>\n",
              "      <td>154806.140</td>\n",
              "      <td>28334.720000</td>\n",
              "      <td>California</td>\n",
              "      <td>112148.650882</td>\n",
              "    </tr>\n",
              "    <tr>\n",
              "      <th>45</th>\n",
              "      <td>1000.230000</td>\n",
              "      <td>124153.040</td>\n",
              "      <td>1903.930000</td>\n",
              "      <td>New York</td>\n",
              "      <td>112148.650882</td>\n",
              "    </tr>\n",
              "    <tr>\n",
              "      <th>46</th>\n",
              "      <td>1315.460000</td>\n",
              "      <td>115816.210</td>\n",
              "      <td>297114.460000</td>\n",
              "      <td>Florida</td>\n",
              "      <td>49490.750000</td>\n",
              "    </tr>\n",
              "    <tr>\n",
              "      <th>47</th>\n",
              "      <td>0.000000</td>\n",
              "      <td>135426.920</td>\n",
              "      <td>0.000000</td>\n",
              "      <td>California</td>\n",
              "      <td>42559.730000</td>\n",
              "    </tr>\n",
              "    <tr>\n",
              "      <th>48</th>\n",
              "      <td>542.050000</td>\n",
              "      <td>51743.150</td>\n",
              "      <td>0.000000</td>\n",
              "      <td>NaN</td>\n",
              "      <td>112148.650882</td>\n",
              "    </tr>\n",
              "    <tr>\n",
              "      <th>49</th>\n",
              "      <td>0.000000</td>\n",
              "      <td>116983.800</td>\n",
              "      <td>45173.060000</td>\n",
              "      <td>California</td>\n",
              "      <td>14681.400000</td>\n",
              "    </tr>\n",
              "  </tbody>\n",
              "</table>\n",
              "</div>"
            ],
            "text/plain": [
              "        R&D Spend  Administration  Marketing Spend       State         Profit\n",
              "0   165349.200000      136897.800    471784.100000    New York  192261.830000\n",
              "1   162597.700000      151377.590    200834.512917  California  112148.650882\n",
              "2   153441.510000      101145.550    407934.540000     Florida  191050.390000\n",
              "3   144372.410000      118671.850    383199.620000    New York  112148.650882\n",
              "4   142107.340000       91391.770    366168.420000     Florida  166187.940000\n",
              "5   131876.900000      121952.295    362861.360000         NaN  156991.120000\n",
              "6    73382.444444      147198.870    127716.820000  California  156122.510000\n",
              "7   130298.130000      145530.060    323876.680000     Florida  112148.650882\n",
              "8   120542.520000      148718.950    311613.290000         NaN  152211.770000\n",
              "9   123334.880000      108679.170    304981.620000  California  149759.960000\n",
              "10  101913.080000      110594.110    229160.950000     Florida  146121.950000\n",
              "11  100671.960000       91790.610    249744.550000  California  112148.650882\n",
              "12   93863.750000      127320.380    249839.440000     Florida  141585.520000\n",
              "13   91992.390000      135495.070         0.000000  California  134307.350000\n",
              "14  119943.240000      156547.420    256512.920000     Florida  132602.650000\n",
              "15   73382.444444      122616.840    261776.230000    New York  129917.040000\n",
              "16   78013.110000      121952.295    264346.060000  California  112148.650882\n",
              "17   94657.160000      145077.580    282574.310000    New York  125370.370000\n",
              "18   91749.160000      114175.790    294919.570000     Florida  124266.900000\n",
              "19   86419.700000      153514.110         0.000000    New York  112148.650882\n",
              "20   76253.860000      113867.300    298664.470000  California  118474.030000\n",
              "21   78389.470000      153773.430    299737.290000    New York  111313.020000\n",
              "22   73994.560000      122782.750    303319.260000     Florida  112148.650882\n",
              "23   67532.530000      105751.030    304768.730000     Florida  112148.650882\n",
              "24   77044.010000       99281.340    140574.810000    New York  108552.040000\n",
              "25   73382.444444      139553.160    137962.620000  California  107404.340000\n",
              "26   75328.870000      144135.980    134050.070000     Florida  105733.540000\n",
              "27   72107.600000      127864.550    353183.810000    New York  112148.650882\n",
              "28   66051.520000      182645.560    118148.200000     Florida  103282.380000\n",
              "29   65605.480000      121952.295    107138.380000    New York  112148.650882\n",
              "30   61994.480000      115641.280     91131.240000     Florida   99937.590000\n",
              "31   61136.380000      152701.920     88218.230000    New York  112148.650882\n",
              "32   63408.860000      129219.610     46085.250000  California   97427.840000\n",
              "33   55493.950000      103057.490    200834.512917     Florida   96778.920000\n",
              "34   73382.444444      157693.920    210797.670000  California   96712.800000\n",
              "35   46014.020000       85047.440    205517.640000    New York  112148.650882\n",
              "36   28663.760000      127056.210    201126.820000     Florida   90708.190000\n",
              "37   44069.950000       51283.140    197029.420000  California   89949.140000\n",
              "38   20229.590000       65947.930    185265.100000    New York   81229.060000\n",
              "39   38558.510000      121952.295    174999.300000  California   81005.760000\n",
              "40   28754.330000      118546.050    172795.670000         NaN  112148.650882\n",
              "41   27892.920000       84710.770    164470.710000     Florida   77798.830000\n",
              "42   73382.444444       96189.630    148001.110000  California   71498.490000\n",
              "43   15505.730000      127382.300     35534.170000    New York   69758.980000\n",
              "44   22177.740000      154806.140     28334.720000  California  112148.650882\n",
              "45    1000.230000      124153.040      1903.930000    New York  112148.650882\n",
              "46    1315.460000      115816.210    297114.460000     Florida   49490.750000\n",
              "47       0.000000      135426.920         0.000000  California   42559.730000\n",
              "48     542.050000       51743.150         0.000000         NaN  112148.650882\n",
              "49       0.000000      116983.800     45173.060000  California   14681.400000"
            ]
          },
          "metadata": {},
          "execution_count": 12
        }
      ]
    },
    {
      "cell_type": "code",
      "metadata": {
        "colab": {
          "base_uri": "https://localhost:8080/"
        },
        "id": "_hi2Z94ruCcE",
        "outputId": "014c92c1-b062-4ec6-9e7d-25006ea24cba"
      },
      "source": [
        "startups_dataset.isnull().sum()"
      ],
      "execution_count": null,
      "outputs": [
        {
          "output_type": "execute_result",
          "data": {
            "text/plain": [
              "R&D Spend          0\n",
              "Administration     0\n",
              "Marketing Spend    0\n",
              "State              4\n",
              "Profit             0\n",
              "dtype: int64"
            ]
          },
          "metadata": {},
          "execution_count": 46
        }
      ]
    },
    {
      "cell_type": "markdown",
      "metadata": {
        "id": "uEHVcnx-bT1m"
      },
      "source": [
        "All the NaN values of numerical columns are filled.<br>\n",
        "The barplot is:"
      ]
    },
    {
      "cell_type": "code",
      "metadata": {
        "colab": {
          "base_uri": "https://localhost:8080/",
          "height": 396
        },
        "id": "HBHiqpBkvVi1",
        "outputId": "9fefb9a7-b552-41cd-f12b-8d8d347ce1fe"
      },
      "source": [
        "new_na_counts = startups_dataset.isna().sum()\n",
        "sns.barplot(new_na_counts.index.values, new_na_counts)\n",
        "plt.xticks(rotation=90);"
      ],
      "execution_count": null,
      "outputs": [
        {
          "output_type": "stream",
          "name": "stderr",
          "text": [
            "/usr/local/lib/python3.7/dist-packages/seaborn/_decorators.py:43: FutureWarning: Pass the following variables as keyword args: x, y. From version 0.12, the only valid positional argument will be `data`, and passing other arguments without an explicit keyword will result in an error or misinterpretation.\n",
            "  FutureWarning\n"
          ]
        },
        {
          "output_type": "display_data",
          "data": {
            "image/png": "[encoded data removed]",
            "text/plain": [
              "<Figure size 432x288 with 1 Axes>"
            ]
          },
          "metadata": {
            "needs_background": "light"
          }
        }
      ]
    },
    {
      "cell_type": "code",
      "metadata": {
        "colab": {
          "base_uri": "https://localhost:8080/"
        },
        "id": "-Sjjt0V_lJle",
        "outputId": "9349ba91-fa02-40bd-dea8-64b33f60a54d"
      },
      "source": [
        "startups_dataset.info"
      ],
      "execution_count": null,
      "outputs": [
        {
          "output_type": "execute_result",
          "data": {
            "text/plain": [
              "<bound method DataFrame.info of         R&D Spend  Administration  Marketing Spend       State         Profit\n",
              "0   165349.200000      136897.800    471784.100000    New York  192261.830000\n",
              "1   162597.700000      151377.590    200834.512917  California  112148.650882\n",
              "2   153441.510000      101145.550    407934.540000     Florida  191050.390000\n",
              "3   144372.410000      118671.850    383199.620000    New York  112148.650882\n",
              "4   142107.340000       91391.770    366168.420000     Florida  166187.940000\n",
              "5   131876.900000      121952.295    362861.360000         NaN  156991.120000\n",
              "6    73382.444444      147198.870    127716.820000  California  156122.510000\n",
              "7   130298.130000      145530.060    323876.680000     Florida  112148.650882\n",
              "8   120542.520000      148718.950    311613.290000         NaN  152211.770000\n",
              "9   123334.880000      108679.170    304981.620000  California  149759.960000\n",
              "10  101913.080000      110594.110    229160.950000     Florida  146121.950000\n",
              "11  100671.960000       91790.610    249744.550000  California  112148.650882\n",
              "12   93863.750000      127320.380    249839.440000     Florida  141585.520000\n",
              "13   91992.390000      135495.070         0.000000  California  134307.350000\n",
              "14  119943.240000      156547.420    256512.920000     Florida  132602.650000\n",
              "15   73382.444444      122616.840    261776.230000    New York  129917.040000\n",
              "16   78013.110000      121952.295    264346.060000  California  112148.650882\n",
              "17   94657.160000      145077.580    282574.310000    New York  125370.370000\n",
              "18   91749.160000      114175.790    294919.570000     Florida  124266.900000\n",
              "19   86419.700000      153514.110         0.000000    New York  112148.650882\n",
              "20   76253.860000      113867.300    298664.470000  California  118474.030000\n",
              "21   78389.470000      153773.430    299737.290000    New York  111313.020000\n",
              "22   73994.560000      122782.750    303319.260000     Florida  112148.650882\n",
              "23   67532.530000      105751.030    304768.730000     Florida  112148.650882\n",
              "24   77044.010000       99281.340    140574.810000    New York  108552.040000\n",
              "25   73382.444444      139553.160    137962.620000  California  107404.340000\n",
              "26   75328.870000      144135.980    134050.070000     Florida  105733.540000\n",
              "27   72107.600000      127864.550    353183.810000    New York  112148.650882\n",
              "28   66051.520000      182645.560    118148.200000     Florida  103282.380000\n",
              "29   65605.480000      121952.295    107138.380000    New York  112148.650882\n",
              "30   61994.480000      115641.280     91131.240000     Florida   99937.590000\n",
              "31   61136.380000      152701.920     88218.230000    New York  112148.650882\n",
              "32   63408.860000      129219.610     46085.250000  California   97427.840000\n",
              "33   55493.950000      103057.490    200834.512917     Florida   96778.920000\n",
              "34   73382.444444      157693.920    210797.670000  California   96712.800000\n",
              "35   46014.020000       85047.440    205517.640000    New York  112148.650882\n",
              "36   28663.760000      127056.210    201126.820000     Florida   90708.190000\n",
              "37   44069.950000       51283.140    197029.420000  California   89949.140000\n",
              "38   20229.590000       65947.930    185265.100000    New York   81229.060000\n",
              "39   38558.510000      121952.295    174999.300000  California   81005.760000\n",
              "40   28754.330000      118546.050    172795.670000         NaN  112148.650882\n",
              "41   27892.920000       84710.770    164470.710000     Florida   77798.830000\n",
              "42   73382.444444       96189.630    148001.110000  California   71498.490000\n",
              "43   15505.730000      127382.300     35534.170000    New York   69758.980000\n",
              "44   22177.740000      154806.140     28334.720000  California  112148.650882\n",
              "45    1000.230000      124153.040      1903.930000    New York  112148.650882\n",
              "46    1315.460000      115816.210    297114.460000     Florida   49490.750000\n",
              "47       0.000000      135426.920         0.000000  California   42559.730000\n",
              "48     542.050000       51743.150         0.000000         NaN  112148.650882\n",
              "49       0.000000      116983.800     45173.060000  California   14681.400000>"
            ]
          },
          "metadata": {},
          "execution_count": 16
        }
      ]
    },
    {
      "cell_type": "markdown",
      "metadata": {
        "id": "uxU1RjD2bmKS"
      },
      "source": [
        "**<h3>Statistical description of Dataset</h3>**"
      ]
    },
    {
      "cell_type": "code",
      "metadata": {
        "colab": {
          "base_uri": "https://localhost:8080/",
          "height": 296
        },
        "id": "IRnBQE4FSf-N",
        "outputId": "3d2ebbcd-825f-4d88-ae25-f5a15217181b"
      },
      "source": [
        "startups_dataset.describe()"
      ],
      "execution_count": null,
      "outputs": [
        {
          "output_type": "execute_result",
          "data": {
            "text/html": [
              "<div>\n",
              "<style scoped>\n",
              "    .dataframe tbody tr th:only-of-type {\n",
              "        vertical-align: middle;\n",
              "    }\n",
              "\n",
              "    .dataframe tbody tr th {\n",
              "        vertical-align: top;\n",
              "    }\n",
              "\n",
              "    .dataframe thead th {\n",
              "        text-align: right;\n",
              "    }\n",
              "</style>\n",
              "<table border=\"1\" class=\"dataframe\">\n",
              "  <thead>\n",
              "    <tr style=\"text-align: right;\">\n",
              "      <th></th>\n",
              "      <th>R&amp;D Spend</th>\n",
              "      <th>Administration</th>\n",
              "      <th>Marketing Spend</th>\n",
              "      <th>Profit</th>\n",
              "    </tr>\n",
              "  </thead>\n",
              "  <tbody>\n",
              "    <tr>\n",
              "      <th>count</th>\n",
              "      <td>50.000000</td>\n",
              "      <td>50.000000</td>\n",
              "      <td>50.000000</td>\n",
              "      <td>50.000000</td>\n",
              "    </tr>\n",
              "    <tr>\n",
              "      <th>mean</th>\n",
              "      <td>73382.444444</td>\n",
              "      <td>121952.295000</td>\n",
              "      <td>200834.512917</td>\n",
              "      <td>112148.650882</td>\n",
              "    </tr>\n",
              "    <tr>\n",
              "      <th>std</th>\n",
              "      <td>43922.624740</td>\n",
              "      <td>26919.570819</td>\n",
              "      <td>120911.591132</td>\n",
              "      <td>32859.594106</td>\n",
              "    </tr>\n",
              "    <tr>\n",
              "      <th>min</th>\n",
              "      <td>0.000000</td>\n",
              "      <td>51283.140000</td>\n",
              "      <td>0.000000</td>\n",
              "      <td>14681.400000</td>\n",
              "    </tr>\n",
              "    <tr>\n",
              "      <th>25%</th>\n",
              "      <td>44555.967500</td>\n",
              "      <td>109157.905000</td>\n",
              "      <td>120540.355000</td>\n",
              "      <td>98055.277500</td>\n",
              "    </tr>\n",
              "    <tr>\n",
              "      <th>50%</th>\n",
              "      <td>73382.444444</td>\n",
              "      <td>122284.567500</td>\n",
              "      <td>200980.666458</td>\n",
              "      <td>112148.650882</td>\n",
              "    </tr>\n",
              "    <tr>\n",
              "      <th>75%</th>\n",
              "      <td>94458.807500</td>\n",
              "      <td>142990.275000</td>\n",
              "      <td>298276.967500</td>\n",
              "      <td>125094.502500</td>\n",
              "    </tr>\n",
              "    <tr>\n",
              "      <th>max</th>\n",
              "      <td>165349.200000</td>\n",
              "      <td>182645.560000</td>\n",
              "      <td>471784.100000</td>\n",
              "      <td>192261.830000</td>\n",
              "    </tr>\n",
              "  </tbody>\n",
              "</table>\n",
              "</div>"
            ],
            "text/plain": [
              "           R&D Spend  Administration  Marketing Spend         Profit\n",
              "count      50.000000       50.000000        50.000000      50.000000\n",
              "mean    73382.444444   121952.295000    200834.512917  112148.650882\n",
              "std     43922.624740    26919.570819    120911.591132   32859.594106\n",
              "min         0.000000    51283.140000         0.000000   14681.400000\n",
              "25%     44555.967500   109157.905000    120540.355000   98055.277500\n",
              "50%     73382.444444   122284.567500    200980.666458  112148.650882\n",
              "75%     94458.807500   142990.275000    298276.967500  125094.502500\n",
              "max    165349.200000   182645.560000    471784.100000  192261.830000"
            ]
          },
          "metadata": {},
          "execution_count": 17
        }
      ]
    },
    {
      "cell_type": "code",
      "metadata": {
        "colab": {
          "base_uri": "https://localhost:8080/"
        },
        "id": "-6M5ctNgSmCa",
        "outputId": "08d53c88-d410-4b61-d0b9-c1cf4be76dcb"
      },
      "source": [
        "startups_dataset['Profit'].describe()"
      ],
      "execution_count": null,
      "outputs": [
        {
          "output_type": "execute_result",
          "data": {
            "text/plain": [
              "count        50.000000\n",
              "mean     112148.650882\n",
              "std       32859.594106\n",
              "min       14681.400000\n",
              "25%       98055.277500\n",
              "50%      112148.650882\n",
              "75%      125094.502500\n",
              "max      192261.830000\n",
              "Name: Profit, dtype: float64"
            ]
          },
          "metadata": {},
          "execution_count": 18
        }
      ]
    },
    {
      "cell_type": "code",
      "metadata": {
        "colab": {
          "base_uri": "https://localhost:8080/"
        },
        "id": "7dNmHuZkS0RA",
        "outputId": "0b2d63f2-a804-4a35-ea1a-b11f4462e70d"
      },
      "source": [
        "startups_dataset['R&D Spend'].describe()"
      ],
      "execution_count": null,
      "outputs": [
        {
          "output_type": "execute_result",
          "data": {
            "text/plain": [
              "count        50.000000\n",
              "mean      73382.444444\n",
              "std       43922.624740\n",
              "min           0.000000\n",
              "25%       44555.967500\n",
              "50%       73382.444444\n",
              "75%       94458.807500\n",
              "max      165349.200000\n",
              "Name: R&D Spend, dtype: float64"
            ]
          },
          "metadata": {},
          "execution_count": 19
        }
      ]
    },
    {
      "cell_type": "code",
      "metadata": {
        "colab": {
          "base_uri": "https://localhost:8080/"
        },
        "id": "9Cid0H25lXP1",
        "outputId": "3eff3d39-9ff2-4c06-d80b-e56e898eeaae"
      },
      "source": [
        "print()\n",
        "print('Maximum values of each column:\\n', startups_dataset.max())\n",
        "print()\n",
        "print('Minimum Profit value:', startups_dataset['Profit'].min())\n",
        "print()\n",
        "print('Average value of each column:\\n', startups_dataset.mean())"
      ],
      "execution_count": null,
      "outputs": [
        {
          "output_type": "stream",
          "name": "stdout",
          "text": [
            "\n",
            "Maximum values of each column:\n",
            " R&D Spend          165349.20\n",
            "Administration     182645.56\n",
            "Marketing Spend    471784.10\n",
            "Profit             192261.83\n",
            "dtype: float64\n",
            "\n",
            "Minimum Profit value: 14681.4\n",
            "\n",
            "Average value of each column:\n",
            " R&D Spend           73382.444444\n",
            "Administration     121952.295000\n",
            "Marketing Spend    200834.512917\n",
            "Profit             112148.650882\n",
            "dtype: float64\n"
          ]
        }
      ]
    },
    {
      "cell_type": "markdown",
      "metadata": {
        "id": "84TK1bc4b-WV"
      },
      "source": [
        "**How many states to analyse?**"
      ]
    },
    {
      "cell_type": "code",
      "metadata": {
        "colab": {
          "base_uri": "https://localhost:8080/"
        },
        "id": "XSvcj-BjwBIt",
        "outputId": "b8f699b1-f3a3-4688-cd2b-1b152ec6da99"
      },
      "source": [
        "startups_dataset['State'].unique()"
      ],
      "execution_count": null,
      "outputs": [
        {
          "output_type": "execute_result",
          "data": {
            "text/plain": [
              "array(['New York', 'California', 'Florida', nan], dtype=object)"
            ]
          },
          "metadata": {},
          "execution_count": 22
        }
      ]
    },
    {
      "cell_type": "code",
      "metadata": {
        "colab": {
          "base_uri": "https://localhost:8080/"
        },
        "id": "PdfhkgT2w8If",
        "outputId": "61d9bc39-0d7c-401c-9535-be373f05694c"
      },
      "source": [
        "startups_dataset.groupby('State')['Profit'].value_counts()"
      ],
      "execution_count": null,
      "outputs": [
        {
          "output_type": "execute_result",
          "data": {
            "text/plain": [
              "State       Profit       \n",
              "California  112148.650882    4\n",
              "            14681.400000     1\n",
              "            42559.730000     1\n",
              "            71498.490000     1\n",
              "            81005.760000     1\n",
              "            89949.140000     1\n",
              "            96712.800000     1\n",
              "            97427.840000     1\n",
              "            107404.340000    1\n",
              "            118474.030000    1\n",
              "            134307.350000    1\n",
              "            149759.960000    1\n",
              "            156122.510000    1\n",
              "Florida     112148.650882    3\n",
              "            49490.750000     1\n",
              "            77798.830000     1\n",
              "            90708.190000     1\n",
              "            96778.920000     1\n",
              "            99937.590000     1\n",
              "            103282.380000    1\n",
              "            105733.540000    1\n",
              "            124266.900000    1\n",
              "            132602.650000    1\n",
              "            141585.520000    1\n",
              "            146121.950000    1\n",
              "            166187.940000    1\n",
              "            191050.390000    1\n",
              "New York    112148.650882    7\n",
              "            69758.980000     1\n",
              "            81229.060000     1\n",
              "            108552.040000    1\n",
              "            111313.020000    1\n",
              "            125370.370000    1\n",
              "            129917.040000    1\n",
              "            192261.830000    1\n",
              "Name: Profit, dtype: int64"
            ]
          },
          "metadata": {},
          "execution_count": 51
        }
      ]
    },
    {
      "cell_type": "code",
      "metadata": {
        "colab": {
          "base_uri": "https://localhost:8080/"
        },
        "id": "Q1cXKJ_YXySK",
        "outputId": "ed261beb-a421-4422-a65b-57242d007d94"
      },
      "source": [
        "startups_dataset.groupby('State')['Profit'].mean()"
      ],
      "execution_count": null,
      "outputs": [
        {
          "output_type": "execute_result",
          "data": {
            "text/plain": [
              "State\n",
              "California    100531.122096\n",
              "Florida       116374.468915\n",
              "New York      114531.635441\n",
              "Name: Profit, dtype: float64"
            ]
          },
          "metadata": {},
          "execution_count": 28
        }
      ]
    },
    {
      "cell_type": "markdown",
      "metadata": {
        "id": "rSyPra1-eGpo"
      },
      "source": [
        "**<h3>Correlation between the numerical values</h3>**"
      ]
    },
    {
      "cell_type": "code",
      "metadata": {
        "colab": {
          "base_uri": "https://localhost:8080/",
          "height": 172
        },
        "id": "7UqZxT1BnZhm",
        "outputId": "5388c72b-fb73-4a20-981c-960de348cd27"
      },
      "source": [
        "startups_dataset.corr()"
      ],
      "execution_count": null,
      "outputs": [
        {
          "output_type": "execute_result",
          "data": {
            "text/html": [
              "<div>\n",
              "<style scoped>\n",
              "    .dataframe tbody tr th:only-of-type {\n",
              "        vertical-align: middle;\n",
              "    }\n",
              "\n",
              "    .dataframe tbody tr th {\n",
              "        vertical-align: top;\n",
              "    }\n",
              "\n",
              "    .dataframe thead th {\n",
              "        text-align: right;\n",
              "    }\n",
              "</style>\n",
              "<table border=\"1\" class=\"dataframe\">\n",
              "  <thead>\n",
              "    <tr style=\"text-align: right;\">\n",
              "      <th></th>\n",
              "      <th>R&amp;D Spend</th>\n",
              "      <th>Administration</th>\n",
              "      <th>Marketing Spend</th>\n",
              "      <th>Profit</th>\n",
              "    </tr>\n",
              "  </thead>\n",
              "  <tbody>\n",
              "    <tr>\n",
              "      <th>R&amp;D Spend</th>\n",
              "      <td>1.000000</td>\n",
              "      <td>0.236130</td>\n",
              "      <td>0.662131</td>\n",
              "      <td>0.749038</td>\n",
              "    </tr>\n",
              "    <tr>\n",
              "      <th>Administration</th>\n",
              "      <td>0.236130</td>\n",
              "      <td>1.000000</td>\n",
              "      <td>-0.065876</td>\n",
              "      <td>0.109767</td>\n",
              "    </tr>\n",
              "    <tr>\n",
              "      <th>Marketing Spend</th>\n",
              "      <td>0.662131</td>\n",
              "      <td>-0.065876</td>\n",
              "      <td>1.000000</td>\n",
              "      <td>0.525699</td>\n",
              "    </tr>\n",
              "    <tr>\n",
              "      <th>Profit</th>\n",
              "      <td>0.749038</td>\n",
              "      <td>0.109767</td>\n",
              "      <td>0.525699</td>\n",
              "      <td>1.000000</td>\n",
              "    </tr>\n",
              "  </tbody>\n",
              "</table>\n",
              "</div>"
            ],
            "text/plain": [
              "                 R&D Spend  Administration  Marketing Spend    Profit\n",
              "R&D Spend         1.000000        0.236130         0.662131  0.749038\n",
              "Administration    0.236130        1.000000        -0.065876  0.109767\n",
              "Marketing Spend   0.662131       -0.065876         1.000000  0.525699\n",
              "Profit            0.749038        0.109767         0.525699  1.000000"
            ]
          },
          "metadata": {},
          "execution_count": 29
        }
      ]
    },
    {
      "cell_type": "markdown",
      "metadata": {
        "id": "NbiYK44leQva"
      },
      "source": [
        "**<h3>Correlation Heatmap</h3>**"
      ]
    },
    {
      "cell_type": "code",
      "metadata": {
        "colab": {
          "base_uri": "https://localhost:8080/",
          "height": 362
        },
        "id": "inDQYoSZnp5N",
        "outputId": "c92dab1c-5f0d-4c36-dacb-4fa124718e73"
      },
      "source": [
        "sns.heatmap(startups_dataset.corr())"
      ],
      "execution_count": null,
      "outputs": [
        {
          "output_type": "execute_result",
          "data": {
            "text/plain": [
              "<matplotlib.axes._subplots.AxesSubplot at 0x7f3c64c29690>"
            ]
          },
          "metadata": {},
          "execution_count": 30
        },
        {
          "output_type": "display_data",
          "data": {
            "image/png": "[encoded data removed]",
            "text/plain": [
              "<Figure size 432x288 with 2 Axes>"
            ]
          },
          "metadata": {
            "needs_background": "light"
          }
        }
      ]
    },
    {
      "cell_type": "code",
      "metadata": {
        "colab": {
          "base_uri": "https://localhost:8080/",
          "height": 295
        },
        "id": "Xdlc2s6anyzV",
        "outputId": "c3b078d8-f25b-4a4a-a833-01dd3de8a40e"
      },
      "source": [
        "plt.scatter(x='R&D Spend',y= 'Profit', color='blue', data=startups_dataset)\n",
        "plt.xlabel('R&D Spend')\n",
        "plt.ylabel('Profit')\n",
        "plt.title('R&D Spend vs Profit')\n",
        "plt.show()"
      ],
      "execution_count": null,
      "outputs": [
        {
          "output_type": "display_data",
          "data": {
            "image/png": "[encoded data removed]",
            "text/plain": [
              "<Figure size 432x288 with 1 Axes>"
            ]
          },
          "metadata": {
            "needs_background": "light"
          }
        }
      ]
    },
    {
      "cell_type": "code",
      "metadata": {
        "colab": {
          "base_uri": "https://localhost:8080/",
          "height": 287
        },
        "id": "DJkZaeSjpST2",
        "outputId": "256eba39-300d-47e1-f3bd-1e179890348d"
      },
      "source": [
        "plt.subplot(2,3,1)\n",
        "plt.scatter(x='R&D Spend',y='Profit',color='r',data=startups_dataset)\n",
        "plt.subplot(2,3,3)\n",
        "plt.scatter(x='Administration',y='Profit',color='g',data=startups_dataset)\n",
        "plt.subplot(2,3,4)\n",
        "plt.scatter(x='Marketing Spend',y='Profit',color='b',data=startups_dataset)"
      ],
      "execution_count": null,
      "outputs": [
        {
          "output_type": "execute_result",
          "data": {
            "text/plain": [
              "<matplotlib.collections.PathCollection at 0x7f3c652711d0>"
            ]
          },
          "metadata": {},
          "execution_count": 32
        },
        {
          "output_type": "display_data",
          "data": {
            "image/png": "[encoded data removed]",
            "text/plain": [
              "<Figure size 432x288 with 3 Axes>"
            ]
          },
          "metadata": {
            "needs_background": "light"
          }
        }
      ]
    },
    {
      "cell_type": "code",
      "metadata": {
        "id": "Yhnlftu1qTFh"
      },
      "source": [
        "plt.bar(x='State',y='Profit',data='')"
      ],
      "execution_count": null,
      "outputs": []
    },
    {
      "cell_type": "code",
      "metadata": {
        "colab": {
          "base_uri": "https://localhost:8080/",
          "height": 279
        },
        "id": "LfF6ulZDyToF",
        "outputId": "672a624a-168d-42bd-9208-72179c1d6cc1"
      },
      "source": [
        "sns.countplot(data = startups_dataset, x = 'State');"
      ],
      "execution_count": null,
      "outputs": [
        {
          "output_type": "display_data",
          "data": {
            "image/png": "[encoded data removed]",
            "text/plain": [
              "<Figure size 432x288 with 1 Axes>"
            ]
          },
          "metadata": {
            "needs_background": "light"
          }
        }
      ]
    },
    {
      "cell_type": "code",
      "metadata": {
        "colab": {
          "base_uri": "https://localhost:8080/",
          "height": 279
        },
        "id": "4UhcZ1gWyl-j",
        "outputId": "0ffc81bc-092d-4a96-b192-6c4ac2eacde5"
      },
      "source": [
        "sns.countplot(data = startups_dataset, x = 'State', order= startups_dataset['State'].value_counts().index);"
      ],
      "execution_count": null,
      "outputs": [
        {
          "output_type": "display_data",
          "data": {
            "image/png": "[encoded data removed]",
            "text/plain": [
              "<Figure size 432x288 with 1 Axes>"
            ]
          },
          "metadata": {
            "needs_background": "light"
          }
        }
      ]
    },
    {
      "cell_type": "code",
      "metadata": {
        "colab": {
          "base_uri": "https://localhost:8080/",
          "height": 459
        },
        "id": "LE3HFrrNy3Wh",
        "outputId": "9f90a0a0-7ee2-40be-ce25-87752b25d568"
      },
      "source": [
        "sns.jointplot(x='Marketing Spend',y='Profit',data=startups_dataset,kind='hex')"
      ],
      "execution_count": null,
      "outputs": [
        {
          "output_type": "execute_result",
          "data": {
            "text/plain": [
              "<seaborn.axisgrid.JointGrid at 0x7f3c5cb6ced0>"
            ]
          },
          "metadata": {},
          "execution_count": 35
        },
        {
          "output_type": "display_data",
          "data": {
            "image/png": "[encoded data removed]",
            "text/plain": [
              "<Figure size 432x432 with 3 Axes>"
            ]
          },
          "metadata": {
            "needs_background": "light"
          }
        }
      ]
    },
    {
      "cell_type": "code",
      "metadata": {
        "colab": {
          "base_uri": "https://localhost:8080/",
          "height": 459
        },
        "id": "bOh4lxwUzn4J",
        "outputId": "0c7818cf-13fe-4b8f-8b26-70e9f3d60935"
      },
      "source": [
        "sns.jointplot(x='Administration',y='Profit',data=startups_dataset,kind='reg') "
      ],
      "execution_count": null,
      "outputs": [
        {
          "output_type": "execute_result",
          "data": {
            "text/plain": [
              "<seaborn.axisgrid.JointGrid at 0x7f3c5befee50>"
            ]
          },
          "metadata": {},
          "execution_count": 36
        },
        {
          "output_type": "display_data",
          "data": {
            "image/png": "[encoded data removed]",
            "text/plain": [
              "<Figure size 432x432 with 3 Axes>"
            ]
          },
          "metadata": {
            "needs_background": "light"
          }
        }
      ]
    },
    {
      "cell_type": "code",
      "metadata": {
        "colab": {
          "base_uri": "https://localhost:8080/",
          "height": 459
        },
        "id": "liDJuMLvz1Bg",
        "outputId": "8567809f-9229-445c-cf4e-47bc911c1a63"
      },
      "source": [
        "sns.jointplot(x='R&D Spend',y='Profit',data=startups_dataset,kind='scatter') "
      ],
      "execution_count": null,
      "outputs": [
        {
          "output_type": "execute_result",
          "data": {
            "text/plain": [
              "<seaborn.axisgrid.JointGrid at 0x7f3c59d85cd0>"
            ]
          },
          "metadata": {},
          "execution_count": 37
        },
        {
          "output_type": "display_data",
          "data": {
            "image/png": "[encoded data removed]",
            "text/plain": [
              "<Figure size 432x432 with 3 Axes>"
            ]
          },
          "metadata": {
            "needs_background": "light"
          }
        }
      ]
    },
    {
      "cell_type": "code",
      "metadata": {
        "colab": {
          "base_uri": "https://localhost:8080/",
          "height": 744
        },
        "id": "RzayCkKHz73c",
        "outputId": "1731718f-afec-4d09-ca0a-29b1f04eb620"
      },
      "source": [
        "sns.pairplot(startups_dataset)"
      ],
      "execution_count": null,
      "outputs": [
        {
          "output_type": "execute_result",
          "data": {
            "text/plain": [
              "<seaborn.axisgrid.PairGrid at 0x7f3c652b1090>"
            ]
          },
          "metadata": {},
          "execution_count": 38
        },
        {
          "output_type": "display_data",
          "data": {
            "image/png": "[encoded data removed]",
            "text/plain": [
              "<Figure size 720x720 with 20 Axes>"
            ]
          },
          "metadata": {
            "needs_background": "light"
          }
        }
      ]
    },
    {
      "cell_type": "code",
      "metadata": {
        "colab": {
          "base_uri": "https://localhost:8080/",
          "height": 744
        },
        "id": "ttzh1wmN0Awi",
        "outputId": "f0567fb6-4041-4c85-cd57-a09f9cd06539"
      },
      "source": [
        "sns.pairplot(startups_dataset,hue='State')"
      ],
      "execution_count": null,
      "outputs": [
        {
          "output_type": "execute_result",
          "data": {
            "text/plain": [
              "<seaborn.axisgrid.PairGrid at 0x7f3c5965c150>"
            ]
          },
          "metadata": {},
          "execution_count": 39
        },
        {
          "output_type": "display_data",
          "data": {
            "image/png": "[encoded data removed]",
            "text/plain": [
              "<Figure size 803.75x720 with 20 Axes>"
            ]
          },
          "metadata": {
            "needs_background": "light"
          }
        }
      ]
    },
    {
      "cell_type": "code",
      "metadata": {
        "colab": {
          "base_uri": "https://localhost:8080/",
          "height": 435
        },
        "id": "JF1YvSj20In4",
        "outputId": "bc2cf2ad-9ebf-4403-bea9-bf6d6e1f5fcb"
      },
      "source": [
        "sns.distplot(startups_dataset['Marketing Spend'])\n",
        "plt.xticks(rotation=90)"
      ],
      "execution_count": null,
      "outputs": [
        {
          "output_type": "stream",
          "name": "stderr",
          "text": [
            "/usr/local/lib/python3.7/dist-packages/seaborn/distributions.py:2557: FutureWarning: `distplot` is a deprecated function and will be removed in a future version. Please adapt your code to use either `displot` (a figure-level function with similar flexibility) or `histplot` (an axes-level function for histograms).\n",
            "  warnings.warn(msg, FutureWarning)\n"
          ]
        },
        {
          "output_type": "execute_result",
          "data": {
            "text/plain": [
              "(array([-300000., -200000., -100000.,       0.,  100000.,  200000.,\n",
              "         300000.,  400000.,  500000.,  600000.,  700000.]),\n",
              " <a list of 11 Text major ticklabel objects>)"
            ]
          },
          "metadata": {},
          "execution_count": 40
        },
        {
          "output_type": "display_data",
          "data": {
            "image/png": "[encoded data removed]",
            "text/plain": [
              "<Figure size 432x288 with 1 Axes>"
            ]
          },
          "metadata": {
            "needs_background": "light"
          }
        }
      ]
    },
    {
      "cell_type": "code",
      "metadata": {
        "colab": {
          "base_uri": "https://localhost:8080/",
          "height": 297
        },
        "id": "x5IqT2Gu0dlu",
        "outputId": "d99e3d01-d583-474b-e08a-3e68154ee6e0"
      },
      "source": [
        "sns.barplot(x='R&D Spend',y='State',data=startups_dataset)"
      ],
      "execution_count": null,
      "outputs": [
        {
          "output_type": "execute_result",
          "data": {
            "text/plain": [
              "<matplotlib.axes._subplots.AxesSubplot at 0x7f3c5766d210>"
            ]
          },
          "metadata": {},
          "execution_count": 41
        },
        {
          "output_type": "display_data",
          "data": {
            "image/png": "[encoded data removed]",
            "text/plain": [
              "<Figure size 432x288 with 1 Axes>"
            ]
          },
          "metadata": {
            "needs_background": "light"
          }
        }
      ]
    },
    {
      "cell_type": "code",
      "metadata": {
        "colab": {
          "base_uri": "https://localhost:8080/",
          "height": 352
        },
        "id": "ji0MX5Os09Am",
        "outputId": "d9a43bd9-c027-4b02-a022-6945127fcb09"
      },
      "source": [
        "sns.boxplot('Administration','State', data=startups_dataset)"
      ],
      "execution_count": null,
      "outputs": [
        {
          "output_type": "stream",
          "name": "stderr",
          "text": [
            "/usr/local/lib/python3.7/dist-packages/seaborn/_decorators.py:43: FutureWarning: Pass the following variables as keyword args: x, y. From version 0.12, the only valid positional argument will be `data`, and passing other arguments without an explicit keyword will result in an error or misinterpretation.\n",
            "  FutureWarning\n"
          ]
        },
        {
          "output_type": "execute_result",
          "data": {
            "text/plain": [
              "<matplotlib.axes._subplots.AxesSubplot at 0x7f3c575ccf10>"
            ]
          },
          "metadata": {},
          "execution_count": 42
        },
        {
          "output_type": "display_data",
          "data": {
            "image/png": "[encoded data removed]",
            "text/plain": [
              "<Figure size 432x288 with 1 Axes>"
            ]
          },
          "metadata": {
            "needs_background": "light"
          }
        }
      ]
    },
    {
      "cell_type": "code",
      "metadata": {
        "colab": {
          "base_uri": "https://localhost:8080/",
          "height": 297
        },
        "id": "hTekp3xy1MiM",
        "outputId": "17b37d2b-43e9-4509-e23f-bb3134f53934"
      },
      "source": [
        "sns.boxplot(x=\"State\", y=\"R&D Spend\", data=startups_dataset,palette='rainbow')"
      ],
      "execution_count": null,
      "outputs": [
        {
          "output_type": "execute_result",
          "data": {
            "text/plain": [
              "<matplotlib.axes._subplots.AxesSubplot at 0x7f3c5756e0d0>"
            ]
          },
          "metadata": {},
          "execution_count": 43
        },
        {
          "output_type": "display_data",
          "data": {
            "image/png": "[encoded data removed]",
            "text/plain": [
              "<Figure size 432x288 with 1 Axes>"
            ]
          },
          "metadata": {
            "needs_background": "light"
          }
        }
      ]
    },
    {
      "cell_type": "code",
      "metadata": {
        "colab": {
          "base_uri": "https://localhost:8080/",
          "height": 297
        },
        "id": "bg8J3_q21dvZ",
        "outputId": "fba1c834-4635-4cef-b92c-d0705bd6aa9a"
      },
      "source": [
        "sns.violinplot(x=\"Profit\", y=\"State\", data=startups_dataset,palette='rainbow')"
      ],
      "execution_count": null,
      "outputs": [
        {
          "output_type": "execute_result",
          "data": {
            "text/plain": [
              "<matplotlib.axes._subplots.AxesSubplot at 0x7f3c57527810>"
            ]
          },
          "metadata": {},
          "execution_count": 44
        },
        {
          "output_type": "display_data",
          "data": {
            "image/png": "[encoded data removed]",
            "text/plain": [
              "<Figure size 432x288 with 1 Axes>"
            ]
          },
          "metadata": {
            "needs_background": "light"
          }
        }
      ]
    },
    {
      "cell_type": "code",
      "metadata": {
        "id": "HPSaypbzc7Ly"
      },
      "source": [
        ""
      ],
      "execution_count": null,
      "outputs": []
    }
  ]
}